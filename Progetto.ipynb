{
  "nbformat": 4,
  "nbformat_minor": 0,
  "metadata": {
    "colab": {
      "provenance": [],
      "machine_shape": "hm",
      "gpuType": "T4",
      "authorship_tag": "ABX9TyP7QnjKjdLkMXQ/s/shhrah",
      "include_colab_link": true
    },
    "kernelspec": {
      "name": "python3",
      "display_name": "Python 3"
    },
    "language_info": {
      "name": "python"
    },
    "accelerator": "GPU"
  },
  "cells": [
    {
      "cell_type": "markdown",
      "metadata": {
        "id": "view-in-github",
        "colab_type": "text"
      },
      "source": [
        "<a href=\"https://colab.research.google.com/github/ccsed/ProgettoLabAI/blob/main/Progetto.ipynb\" target=\"_parent\"><img src=\"https://colab.research.google.com/assets/colab-badge.svg\" alt=\"Open In Colab\"/></a>"
      ]
    },
    {
      "cell_type": "markdown",
      "source": [
        "Collego colab a google drive\n"
      ],
      "metadata": {
        "id": "dkejEQMvMXpr"
      }
    },
    {
      "cell_type": "code",
      "execution_count": 1,
      "metadata": {
        "id": "WaJJRPjC6s4n",
        "colab": {
          "base_uri": "https://localhost:8080/"
        },
        "outputId": "e20824a3-4d99-4904-86bb-a77485148c90"
      },
      "outputs": [
        {
          "output_type": "stream",
          "name": "stdout",
          "text": [
            "Mounted at /content/drive\n"
          ]
        }
      ],
      "source": [
        "from google.colab import drive\n",
        "drive.mount('/content/drive')"
      ]
    },
    {
      "cell_type": "code",
      "source": [
        "import os\n",
        "\n",
        "def conta_file(directory):\n",
        "    try:\n",
        "\n",
        "        elementi = os.listdir(directory)\n",
        "\n",
        "        file = [f for f in elementi if os.path.isfile(os.path.join(directory, f))]\n",
        "\n",
        "        numero_file = len(file)\n",
        "        return numero_file\n",
        "    except Exception as e:\n",
        "        print(f\"Errore: {e}\")\n",
        "        return 0\n",
        "\n",
        "directory_path = '/content/Labels'\n",
        "print(f\"Numero di file nella directory: {conta_file(directory_path)}\")\n"
      ],
      "metadata": {
        "id": "VhaX62WnnM--",
        "outputId": "ea70efbb-8eaa-4e76-d15a-5a6e16a69a08",
        "colab": {
          "base_uri": "https://localhost:8080/"
        }
      },
      "execution_count": 13,
      "outputs": [
        {
          "output_type": "stream",
          "name": "stdout",
          "text": [
            "Numero di file nella directory: 3401\n"
          ]
        }
      ]
    },
    {
      "cell_type": "markdown",
      "source": [
        "Importo le librerie necessarie"
      ],
      "metadata": {
        "id": "RLxBbaoYoljw"
      }
    },
    {
      "cell_type": "code",
      "source": [
        "!pip install rasterio"
      ],
      "metadata": {
        "colab": {
          "base_uri": "https://localhost:8080/"
        },
        "id": "SeK0MMwznpSr",
        "outputId": "7b6f7600-1cb4-469c-ed2d-806a53c7f416"
      },
      "execution_count": 14,
      "outputs": [
        {
          "output_type": "stream",
          "name": "stdout",
          "text": [
            "Collecting rasterio\n",
            "  Downloading rasterio-1.3.10-cp310-cp310-manylinux2014_x86_64.whl (21.5 MB)\n",
            "\u001b[2K     \u001b[90m━━━━━━━━━━━━━━━━━━━━━━━━━━━━━━━━━━━━━━━━\u001b[0m \u001b[32m21.5/21.5 MB\u001b[0m \u001b[31m66.3 MB/s\u001b[0m eta \u001b[36m0:00:00\u001b[0m\n",
            "\u001b[?25hCollecting affine (from rasterio)\n",
            "  Downloading affine-2.4.0-py3-none-any.whl (15 kB)\n",
            "Requirement already satisfied: attrs in /usr/local/lib/python3.10/dist-packages (from rasterio) (23.2.0)\n",
            "Requirement already satisfied: certifi in /usr/local/lib/python3.10/dist-packages (from rasterio) (2024.2.2)\n",
            "Requirement already satisfied: click>=4.0 in /usr/local/lib/python3.10/dist-packages (from rasterio) (8.1.7)\n",
            "Requirement already satisfied: cligj>=0.5 in /usr/local/lib/python3.10/dist-packages (from rasterio) (0.7.2)\n",
            "Requirement already satisfied: numpy in /usr/local/lib/python3.10/dist-packages (from rasterio) (1.25.2)\n",
            "Collecting snuggs>=1.4.1 (from rasterio)\n",
            "  Downloading snuggs-1.4.7-py3-none-any.whl (5.4 kB)\n",
            "Requirement already satisfied: click-plugins in /usr/local/lib/python3.10/dist-packages (from rasterio) (1.1.1)\n",
            "Requirement already satisfied: setuptools in /usr/local/lib/python3.10/dist-packages (from rasterio) (67.7.2)\n",
            "Requirement already satisfied: pyparsing>=2.1.6 in /usr/local/lib/python3.10/dist-packages (from snuggs>=1.4.1->rasterio) (3.1.2)\n",
            "Installing collected packages: snuggs, affine, rasterio\n",
            "Successfully installed affine-2.4.0 rasterio-1.3.10 snuggs-1.4.7\n"
          ]
        }
      ]
    },
    {
      "cell_type": "code",
      "source": [
        "import os\n",
        "import numpy as np\n",
        "import rasterio\n",
        "import torch\n",
        "from torch.utils.data import Dataset, DataLoader, random_split\n",
        "from torchvision import transforms, datasets\n",
        "import albumentations as A\n",
        "from PIL import Image\n",
        "import matplotlib.pyplot as plt\n",
        "import random\n",
        "import skimage.io as io\n",
        "from rasterio.plot import show\n",
        "import torch.nn as nn\n",
        "import torchvision.transforms.functional as TF\n",
        "from albumentations.pytorch import ToTensorV2\n",
        "import torch.optim as optim\n",
        "from tqdm import tqdm\n",
        "import torchvision\n",
        "from osgeo import gdal\n",
        "import cv2\n",
        "import tifffile as tiff\n",
        "from torch.optim.lr_scheduler import StepLR\n",
        "from sklearn.metrics import precision_score, recall_score, f1_score, accuracy_score\n",
        "from sklearn.model_selection import train_test_split\n",
        "import copy\n",
        "from torch.optim.lr_scheduler import ReduceLROnPlateau"
      ],
      "metadata": {
        "id": "BD5aG8Tloo4V"
      },
      "execution_count": 40,
      "outputs": []
    },
    {
      "cell_type": "markdown",
      "source": [
        "Definisco alcune directory"
      ],
      "metadata": {
        "id": "lhMvQStro03e"
      }
    },
    {
      "cell_type": "code",
      "source": [
        "drive_dir = '/content/drive/MyDrive'\n",
        "image_dir = '/content/drive/MyDrive/Data/SN6_buildings_AOI_11_Rotterdam_train/train/AOI_11_Rotterdam/SAR-Intensity'\n",
        "train_path = '/content/drive/MyDrive/train.txt'\n",
        "val_path = '/content/drive/MyDrive/val.txt'\n",
        "test_path = '/content/drive/MyDrive/test.txt'"
      ],
      "metadata": {
        "id": "8Vk76qcKo8Jr"
      },
      "execution_count": 16,
      "outputs": []
    },
    {
      "cell_type": "markdown",
      "source": [
        "Media e std calcolate in Funzioni.ipynb"
      ],
      "metadata": {
        "id": "qah59_YjHGx9"
      }
    },
    {
      "cell_type": "code",
      "source": [
        "# mean = [22.79312241, 24.30391245, 19.29892107, 17.69439361]\n",
        "# std = [16.42519281, 17.42876255, 14.27711349, 13.24714869]\n",
        "mean = [0.0, 0.0, 0.0, 0.0]\n",
        "std = [1.0, 1.0, 1.0, 1.0]"
      ],
      "metadata": {
        "id": "k_u4JlQmHKVA"
      },
      "execution_count": 44,
      "outputs": []
    },
    {
      "cell_type": "markdown",
      "source": [
        "Definiamo la classe SARDataset"
      ],
      "metadata": {
        "id": "M0ytmvMccxNy"
      }
    },
    {
      "cell_type": "code",
      "source": [
        "class SARDataset(Dataset):\n",
        "    def __init__(self, image_paths, mask_paths, transform=None):\n",
        "        self.image_paths = image_paths\n",
        "        self.mask_paths = mask_paths\n",
        "        self.transform = transform\n",
        "\n",
        "    def __len__(self):\n",
        "        return len(self.image_paths)\n",
        "\n",
        "    def __getitem__(self, idx):\n",
        "        image_path = self.image_paths[idx]\n",
        "        mask_path = self.mask_paths[idx]\n",
        "\n",
        "\n",
        "        with rasterio.open(image_path) as src:\n",
        "            image = src.read().transpose((1, 2, 0))\n",
        "            # print(image.shape)\n",
        "            image = image.astype(np.float32)\n",
        "\n",
        "        with rasterio.open(mask_path) as src:\n",
        "            mask = src.read(1).astype(np.float32)\n",
        "            # print(mask.shape)\n",
        "            mask[mask == 255.0] = 1.0\n",
        "\n",
        "\n",
        "        if self.transform is not None:\n",
        "            augmentations = self.transform(image=image, mask=mask)\n",
        "            image = augmentations[\"image\"]\n",
        "            mask = augmentations[\"mask\"]\n",
        "\n",
        "        return image, mask\n"
      ],
      "metadata": {
        "id": "RtvSgzHpc0Hk"
      },
      "execution_count": 19,
      "outputs": []
    },
    {
      "cell_type": "markdown",
      "source": [
        "Carico i percorsi delle immagini per il training, il validation e il test set"
      ],
      "metadata": {
        "id": "IKLV-lrIdcmF"
      }
    },
    {
      "cell_type": "code",
      "source": [
        "with open(train_path, 'r') as f:\n",
        "    train_data = [line.split() for line in f.read().splitlines()]\n",
        "\n",
        "train_image_paths = [line[0] for line in train_data]\n",
        "train_label_paths = ['/' + line[1] for line in train_data]\n",
        "\n",
        "with open(val_path, 'r') as f:\n",
        "    val_data = [line.split() for line in f.read().splitlines()]\n",
        "\n",
        "val_image_paths = [line[0] for line in val_data]\n",
        "val_label_paths = ['/' + line[1] for line in val_data]\n",
        "\n",
        "with open(test_path, 'r') as f:\n",
        "    test_data = [line.split() for line in f.read().splitlines()]\n",
        "\n",
        "test_image_paths = [line[0] for line in test_data]\n",
        "test_label_paths = ['/' + line[1] for line in test_data]"
      ],
      "metadata": {
        "id": "CNdyy9f7dj8a"
      },
      "execution_count": 20,
      "outputs": []
    },
    {
      "cell_type": "markdown",
      "source": [
        "Creo il modello UNET"
      ],
      "metadata": {
        "id": "rRStPcN0OSoA"
      }
    },
    {
      "cell_type": "markdown",
      "source": [
        "Classe DoubleConv"
      ],
      "metadata": {
        "id": "TtuN8w0ZPal7"
      }
    },
    {
      "cell_type": "code",
      "source": [
        "class DoubleConv(nn.Module):\n",
        "  def __init__(self, in_channels, out_channels):\n",
        "    super(DoubleConv, self).__init__()\n",
        "    self.conv = nn.Sequential(\n",
        "        nn.Conv2d(in_channels, out_channels, 3, 1, 1, bias=False),\n",
        "        nn.BatchNorm2d(out_channels),\n",
        "        nn.ReLU(inplace=True),\n",
        "        nn.Conv2d(out_channels, out_channels, 3, 1, 1, bias=False),\n",
        "        nn.BatchNorm2d(out_channels),\n",
        "        nn.ReLU(inplace=True),\n",
        "    )\n",
        "\n",
        "  def forward(self, x):\n",
        "    return self.conv(x)\n",
        "\n"
      ],
      "metadata": {
        "id": "wLkEzp6sOT8h"
      },
      "execution_count": 21,
      "outputs": []
    },
    {
      "cell_type": "markdown",
      "source": [
        "Classe UNET"
      ],
      "metadata": {
        "id": "U0cyDNFBPgsw"
      }
    },
    {
      "cell_type": "code",
      "source": [
        "class UNET(nn.Module):\n",
        "  def __init__(\n",
        "      self, in_channels=3, out_channels=1, features=[64, 128, 256, 512],\n",
        "  ):\n",
        "    super(UNET, self).__init__()\n",
        "    self.ups = nn.ModuleList()\n",
        "    self.downs = nn.ModuleList()\n",
        "    self.pool = nn.MaxPool2d(kernel_size=2, stride=2)\n",
        "\n",
        "    for feature in features:\n",
        "      self.downs.append(DoubleConv(in_channels, feature))\n",
        "      in_channels = feature\n",
        "\n",
        "    for feature in reversed(features):\n",
        "      self.ups.append(\n",
        "          nn.ConvTranspose2d(\n",
        "              feature*2, feature, kernel_size=2, stride=2,\n",
        "          )\n",
        "      )\n",
        "      self.ups.append(DoubleConv(feature*2, feature))\n",
        "\n",
        "    self.bottleneck = DoubleConv(features[-1], features[-1]*2)\n",
        "    self.final_conv = nn.Conv2d(features[0], out_channels, kernel_size=1)\n",
        "  def forward(self, x):\n",
        "    skip_connections = []\n",
        "\n",
        "    for down in self.downs:\n",
        "      x = down(x)\n",
        "      skip_connections.append(x)\n",
        "      x = self.pool(x)\n",
        "\n",
        "    x = self.bottleneck(x)\n",
        "    skip_connections = skip_connections[::-1]\n",
        "\n",
        "    for idx in range(0, len(self.ups), 2):\n",
        "      x = self.ups[idx](x)\n",
        "      skip_connection = skip_connections[idx//2]\n",
        "\n",
        "      if x.shape != skip_connection.shape:\n",
        "        x = TF.resize(x, size=skip_connection.shape[2:])\n",
        "\n",
        "      concat_skip = torch.cat((skip_connection, x), dim=1)\n",
        "      x = self.ups[idx+1](concat_skip)\n",
        "\n",
        "    return self.final_conv(x)"
      ],
      "metadata": {
        "id": "3pD8M4goPi2_"
      },
      "execution_count": 22,
      "outputs": []
    },
    {
      "cell_type": "markdown",
      "source": [
        "Seed"
      ],
      "metadata": {
        "id": "JYtnwf5Mbyq5"
      }
    },
    {
      "cell_type": "code",
      "source": [
        "def set_seed(seed):\n",
        "  random.seed(seed)\n",
        "  np.random.seed(seed)\n",
        "  torch.manual_seed(seed)\n",
        "  torch.cuda.manual_seed_all(seed)"
      ],
      "metadata": {
        "id": "JFZtznP3bzr4"
      },
      "execution_count": 23,
      "outputs": []
    },
    {
      "cell_type": "markdown",
      "source": [
        "Funzione per il training"
      ],
      "metadata": {
        "id": "a1BZxbOuo7ae"
      }
    },
    {
      "cell_type": "code",
      "source": [
        "def train_fn(loader, model, optimizer, loss_fn, scaler, txtfile):\n",
        "    loop = tqdm(loader)\n",
        "    tot_loss = 0.0\n",
        "\n",
        "    for batch_idx, (data, targets) in enumerate(loop):\n",
        "        data = data.to(device=device)\n",
        "        targets = targets.float().to(device=device)\n",
        "\n",
        "        with torch.cuda.amp.autocast():\n",
        "            predictions = model(data).squeeze(1)\n",
        "            loss = loss_fn(predictions, targets)\n",
        "\n",
        "        optimizer.zero_grad()\n",
        "        scaler.scale(loss).backward()\n",
        "        scaler.step(optimizer)\n",
        "        scaler.update()\n",
        "        tot_loss += loss.item()\n",
        "        loop.set_postfix(loss=loss.item())\n",
        "\n",
        "    avg_loss = tot_loss / len(loader)\n",
        "    with open(txtfile, \"a\") as f:\n",
        "        f.write(f\"Train Loss: {avg_loss:.4f}\\n\")\n"
      ],
      "metadata": {
        "id": "dZjJbKsmo7DI"
      },
      "execution_count": 89,
      "outputs": []
    },
    {
      "cell_type": "markdown",
      "source": [
        "Utils"
      ],
      "metadata": {
        "id": "mebla0LdshkO"
      }
    },
    {
      "cell_type": "code",
      "source": [
        "def save_checkpoint(state, filename=\"/content/drive/MyDrive/model1/checkpoint.pth.tar\"):\n",
        "  print(\"=> Saving checkpoint\")\n",
        "  torch.save(state, filename)\n",
        "\n",
        "def load_checkpoint(checkpoint, model):\n",
        "  print(\"=> Loading checkpoint\")\n",
        "  model.load_state_dict(checkpoint[\"state_dict\"])"
      ],
      "metadata": {
        "id": "JwqGtaHAJ00f"
      },
      "execution_count": 25,
      "outputs": []
    },
    {
      "cell_type": "markdown",
      "source": [
        "Evaluation function"
      ],
      "metadata": {
        "id": "L3KyIVO7OgJd"
      }
    },
    {
      "cell_type": "code",
      "source": [
        "def eval_fn(loader, model, loss_fn, txtfile, device=\"cuda\"):\n",
        "    model.eval()\n",
        "    num_correct = 0\n",
        "    num_pixels = 0\n",
        "    total_dice_score = 0\n",
        "    total_precision = 0\n",
        "    total_recall = 0\n",
        "    total_f1 = 0\n",
        "    total_loss = 0\n",
        "\n",
        "    with torch.no_grad():\n",
        "        for num_it, (x, y) in enumerate(loader, start=1):\n",
        "            x = x.to(device)\n",
        "            y = y.to(device)\n",
        "            out = model(x).squeeze(1)\n",
        "            loss = loss_fn(out, y)\n",
        "            total_loss += loss.item()\n",
        "            preds = torch.sigmoid(out)\n",
        "            preds = (preds > 0.5).float()\n",
        "\n",
        "            num_correct += (preds == y).sum().item()\n",
        "            num_pixels += torch.numel(preds)\n",
        "\n",
        "            dice_score = (2 * (preds * y).sum()) / ((preds + y).sum() + 1e-8)\n",
        "            total_dice_score += dice_score.item()\n",
        "\n",
        "            y_np = y.cpu().numpy().flatten()\n",
        "            preds_np = preds.cpu().numpy().flatten()\n",
        "            total_precision += precision_score(y_np, preds_np, zero_division=1)\n",
        "            total_recall += recall_score(y_np, preds_np, zero_division=1)\n",
        "            total_f1 += f1_score(y_np, preds_np, zero_division=1)\n",
        "\n",
        "    avg_loss = total_loss / len(loader)\n",
        "    avg_dice_score = total_dice_score / len(loader)\n",
        "    avg_precision = total_precision / len(loader)\n",
        "    avg_recall = total_recall / len(loader)\n",
        "    avg_f1 = total_f1 / len(loader)\n",
        "    accuracy = num_correct / num_pixels * 100\n",
        "\n",
        "    print(f\"Validation Loss: {avg_loss:.4f}\")\n",
        "    print(f\"Accuracy: {accuracy:.2f}\")\n",
        "    print(f\"Dice score: {avg_dice_score:.4f}\")\n",
        "    print(f\"Precision: {avg_precision:.4f}\")\n",
        "    print(f\"Recall: {avg_recall:.4f}\")\n",
        "    print(f\"F1 Score: {avg_f1:.4f}\")\n",
        "\n",
        "    with open(txtfile, \"a\") as f:\n",
        "        f.write(f\"Validation Loss: {avg_loss:.4f}\\n\")\n",
        "        f.write(f\"Accuracy: {accuracy:.2f}\\n\")\n",
        "        f.write(f\"Dice score: {avg_dice_score:.4f}\\n\")\n",
        "        f.write(f\"Precision: {avg_precision:.4f}\\n\")\n",
        "        f.write(f\"Recall: {avg_recall:.4f}\\n\")\n",
        "        f.write(f\"F1 Score: {avg_f1:.4f}\\n\")\n",
        "        f.write(\"\\n\")\n",
        "\n",
        "    model.train()\n",
        "    return avg_loss, accuracy, avg_dice_score, avg_precision, avg_recall, avg_f1"
      ],
      "metadata": {
        "id": "n__fVZKKMaSj"
      },
      "execution_count": 26,
      "outputs": []
    },
    {
      "cell_type": "code",
      "source": [
        "def save_predictions_as_imgs(loader, model, folder, device=\"cuda\"):\n",
        "    os.makedirs(folder, exist_ok=True)\n",
        "    model.eval()\n",
        "    it = 1\n",
        "    for idx, (x, y) in enumerate(tqdm(loader, desc=\"Saving predictions\")):\n",
        "        print(it)\n",
        "        it += 1\n",
        "        x = x.to(device=device)\n",
        "        y = y.to(device=device).unsqueeze(1)\n",
        "\n",
        "        with torch.no_grad():\n",
        "            preds = torch.sigmoid(model(x))\n",
        "            preds = (preds > 0.5).float()\n",
        "\n",
        "        combined = torch.cat((y, preds), dim=2)\n",
        "        torchvision.utils.save_image(combined, f\"{folder}/comparison_{idx}.png\")\n",
        "\n",
        "    model.train()\n"
      ],
      "metadata": {
        "id": "sfPDFHfIOnET"
      },
      "execution_count": 27,
      "outputs": []
    },
    {
      "cell_type": "markdown",
      "source": [
        "Training baseline"
      ],
      "metadata": {
        "id": "F7JyInucGoIi"
      }
    },
    {
      "cell_type": "code",
      "source": [
        "set_seed(42)\n",
        "\n",
        "transform = A.Compose([\n",
        "    A.Resize(height=320, width=320),\n",
        "    # A.CenterCrop(height=896, width=896),\n",
        "    # A.RandomCrop(height=320, width=320),\n",
        "    A.HorizontalFlip(p=0.5),\n",
        "    A.VerticalFlip(p=0.5),\n",
        "    A.Rotate(limit=90, p=0.5),\n",
        "    A.Normalize(mean=mean, std=std),\n",
        "    ToTensorV2(),\n",
        "])\n",
        "\n",
        "val_transform = A.Compose([\n",
        "    A.Resize(height=320, width=320),\n",
        "    # A.CenterCrop(height=896, width=896),\n",
        "    # A.RandomCrop(height=320, width=320),\n",
        "    # A.HorizontalFlip(p=0.5),\n",
        "    # A.VerticalFlip(p=0.5),\n",
        "    # A.Rotate(limit=90, p=0.5),\n",
        "    A.Normalize(mean=mean, std=std),\n",
        "    ToTensorV2(),\n",
        "])\n",
        "\n",
        "train_dataset = SARDataset(train_image_paths, train_label_paths, transform=transform)\n",
        "val_dataset = SARDataset(val_image_paths, val_label_paths, transform=val_transform)\n",
        "train_loader = DataLoader(train_dataset, batch_size=16, shuffle=True, num_workers=4, pin_memory=True)\n",
        "val_loader = DataLoader(val_dataset, batch_size=16, shuffle=False, num_workers=4, pin_memory=True)\n",
        "load_model = True\n",
        "lr = 1e-5\n",
        "model_dir = \"/content/drive/MyDrive/model7\"\n",
        "step_size = 7\n",
        "\n",
        "device = torch.device(\"cuda\" if torch.cuda.is_available() else \"cpu\")\n",
        "model = UNET(in_channels=4, out_channels=1).to(device)\n",
        "criterion = nn.BCEWithLogitsLoss()\n",
        "optimizer = optim.Adam(model.parameters(), lr=lr)\n",
        "scheduler = StepLR(optimizer, step_size=step_size)\n",
        "num_epochs = 10\n",
        "scaler = torch.cuda.amp.GradScaler()\n",
        "\n",
        "if load_model:\n",
        "  load_checkpoint(torch.load(model_dir + \"/checkpoint.pth.tar\"), model)\n",
        "\n"
      ],
      "metadata": {
        "id": "-V6po-gjQVEV",
        "outputId": "d53ac265-4f7a-4c3e-a2ad-b480aab75b31",
        "colab": {
          "base_uri": "https://localhost:8080/"
        }
      },
      "execution_count": 94,
      "outputs": [
        {
          "output_type": "stream",
          "name": "stdout",
          "text": [
            "=> Loading checkpoint\n"
          ]
        }
      ]
    },
    {
      "cell_type": "code",
      "source": [
        "best_f1_score = 0.0"
      ],
      "metadata": {
        "id": "BrekQVb7MnnA"
      },
      "execution_count": 91,
      "outputs": []
    },
    {
      "cell_type": "code",
      "source": [
        "\n",
        "\n",
        "for epoch in range(num_epochs):\n",
        "    print(f\"epoch {epoch}\")\n",
        "    train_fn(train_loader, model, optimizer, criterion, scaler, model_dir + \"/output/output.txt\")\n",
        "\n",
        "    checkpoint = {\n",
        "        \"state_dict\": model.state_dict(),\n",
        "        \"optimizer\": optimizer.state_dict(),\n",
        "    }\n",
        "    save_checkpoint(checkpoint, model_dir + \"/checkpoint.pth.tar\")\n",
        "\n",
        "    val_loss, val_accuracy, val_dice_score, val_precision, val_recall, val_f1 = eval_fn(val_loader, model, criterion, model_dir + \"/output/output.txt\", device=device)\n",
        "\n",
        "    if val_f1 > best_f1_score:\n",
        "        best_f1_score = val_f1\n",
        "        save_checkpoint(checkpoint, filename=os.path.join(model_dir, \"best_model.pth.tar\"))\n",
        "        print(f\"New best F1 score: {best_f1_score:.4f}\")\n",
        "\n",
        "    if (epoch + 1) % 5 == 0:\n",
        "        save_predictions_as_imgs(val_loader, model, model_dir + \"/images/\", device=device)\n",
        "\n",
        "    scheduler.step()\n"
      ],
      "metadata": {
        "id": "ptfFWcykRww3",
        "outputId": "2f403422-ff05-4ac7-afc1-5f1edb9649ae",
        "colab": {
          "base_uri": "https://localhost:8080/"
        }
      },
      "execution_count": 95,
      "outputs": [
        {
          "output_type": "stream",
          "name": "stdout",
          "text": [
            "epoch 0\n"
          ]
        },
        {
          "output_type": "stream",
          "name": "stderr",
          "text": [
            "100%|██████████| 149/149 [01:40<00:00,  1.48it/s, loss=0.213]\n"
          ]
        },
        {
          "output_type": "stream",
          "name": "stdout",
          "text": [
            "=> Saving checkpoint\n",
            "Validation Loss: 0.2405\n",
            "Accuracy: 93.34\n",
            "Dice score: 0.3404\n",
            "Precision: 0.5565\n",
            "Recall: 0.2502\n",
            "F1 Score: 0.3404\n",
            "epoch 1\n"
          ]
        },
        {
          "output_type": "stream",
          "name": "stderr",
          "text": [
            "100%|██████████| 149/149 [01:41<00:00,  1.47it/s, loss=0.221]\n"
          ]
        },
        {
          "output_type": "stream",
          "name": "stdout",
          "text": [
            "=> Saving checkpoint\n",
            "Validation Loss: 0.2412\n",
            "Accuracy: 92.89\n",
            "Dice score: 0.3882\n",
            "Precision: 0.4907\n",
            "Recall: 0.3311\n",
            "F1 Score: 0.3882\n",
            "epoch 2\n"
          ]
        },
        {
          "output_type": "stream",
          "name": "stderr",
          "text": [
            "100%|██████████| 149/149 [01:41<00:00,  1.47it/s, loss=0.21]\n"
          ]
        },
        {
          "output_type": "stream",
          "name": "stdout",
          "text": [
            "=> Saving checkpoint\n",
            "Validation Loss: 0.2346\n",
            "Accuracy: 93.37\n",
            "Dice score: 0.3651\n",
            "Precision: 0.5586\n",
            "Recall: 0.2761\n",
            "F1 Score: 0.3651\n",
            "epoch 3\n"
          ]
        },
        {
          "output_type": "stream",
          "name": "stderr",
          "text": [
            "100%|██████████| 149/149 [01:41<00:00,  1.47it/s, loss=0.242]\n"
          ]
        },
        {
          "output_type": "stream",
          "name": "stdout",
          "text": [
            "=> Saving checkpoint\n",
            "Validation Loss: 0.2487\n",
            "Accuracy: 92.09\n",
            "Dice score: 0.4481\n",
            "Precision: 0.4371\n",
            "Recall: 0.4644\n",
            "F1 Score: 0.4481\n",
            "=> Saving checkpoint\n",
            "New best F1 score: 0.4481\n",
            "epoch 4\n"
          ]
        },
        {
          "output_type": "stream",
          "name": "stderr",
          "text": [
            "100%|██████████| 149/149 [01:41<00:00,  1.46it/s, loss=0.224]\n"
          ]
        },
        {
          "output_type": "stream",
          "name": "stdout",
          "text": [
            "=> Saving checkpoint\n",
            "Validation Loss: 0.2332\n",
            "Accuracy: 92.82\n",
            "Dice score: 0.4508\n",
            "Precision: 0.4845\n",
            "Recall: 0.4296\n",
            "F1 Score: 0.4508\n",
            "=> Saving checkpoint\n",
            "New best F1 score: 0.4508\n"
          ]
        },
        {
          "output_type": "stream",
          "name": "stderr",
          "text": [
            "\rSaving predictions:   0%|          | 0/43 [00:00<?, ?it/s]"
          ]
        },
        {
          "output_type": "stream",
          "name": "stdout",
          "text": [
            "1\n"
          ]
        },
        {
          "output_type": "stream",
          "name": "stderr",
          "text": [
            "\rSaving predictions:   2%|▏         | 1/43 [00:01<01:16,  1.82s/it]"
          ]
        },
        {
          "output_type": "stream",
          "name": "stdout",
          "text": [
            "2\n"
          ]
        },
        {
          "output_type": "stream",
          "name": "stderr",
          "text": [
            "\rSaving predictions:   5%|▍         | 2/43 [00:02<00:46,  1.13s/it]"
          ]
        },
        {
          "output_type": "stream",
          "name": "stdout",
          "text": [
            "3\n"
          ]
        },
        {
          "output_type": "stream",
          "name": "stderr",
          "text": [
            "\rSaving predictions:   7%|▋         | 3/43 [00:03<00:36,  1.10it/s]"
          ]
        },
        {
          "output_type": "stream",
          "name": "stdout",
          "text": [
            "4\n"
          ]
        },
        {
          "output_type": "stream",
          "name": "stderr",
          "text": [
            "\rSaving predictions:   9%|▉         | 4/43 [00:03<00:31,  1.24it/s]"
          ]
        },
        {
          "output_type": "stream",
          "name": "stdout",
          "text": [
            "5\n"
          ]
        },
        {
          "output_type": "stream",
          "name": "stderr",
          "text": [
            "\rSaving predictions:  12%|█▏        | 5/43 [00:04<00:28,  1.33it/s]"
          ]
        },
        {
          "output_type": "stream",
          "name": "stdout",
          "text": [
            "6\n"
          ]
        },
        {
          "output_type": "stream",
          "name": "stderr",
          "text": [
            "\rSaving predictions:  14%|█▍        | 6/43 [00:05<00:26,  1.39it/s]"
          ]
        },
        {
          "output_type": "stream",
          "name": "stdout",
          "text": [
            "7\n"
          ]
        },
        {
          "output_type": "stream",
          "name": "stderr",
          "text": [
            "\rSaving predictions:  16%|█▋        | 7/43 [00:05<00:25,  1.43it/s]"
          ]
        },
        {
          "output_type": "stream",
          "name": "stdout",
          "text": [
            "8\n"
          ]
        },
        {
          "output_type": "stream",
          "name": "stderr",
          "text": [
            "\rSaving predictions:  19%|█▊        | 8/43 [00:06<00:23,  1.47it/s]"
          ]
        },
        {
          "output_type": "stream",
          "name": "stdout",
          "text": [
            "9\n"
          ]
        },
        {
          "output_type": "stream",
          "name": "stderr",
          "text": [
            "\rSaving predictions:  21%|██        | 9/43 [00:07<00:22,  1.49it/s]"
          ]
        },
        {
          "output_type": "stream",
          "name": "stdout",
          "text": [
            "10\n"
          ]
        },
        {
          "output_type": "stream",
          "name": "stderr",
          "text": [
            "\rSaving predictions:  23%|██▎       | 10/43 [00:07<00:22,  1.49it/s]"
          ]
        },
        {
          "output_type": "stream",
          "name": "stdout",
          "text": [
            "11\n"
          ]
        },
        {
          "output_type": "stream",
          "name": "stderr",
          "text": [
            "\rSaving predictions:  26%|██▌       | 11/43 [00:08<00:21,  1.49it/s]"
          ]
        },
        {
          "output_type": "stream",
          "name": "stdout",
          "text": [
            "12\n"
          ]
        },
        {
          "output_type": "stream",
          "name": "stderr",
          "text": [
            "\rSaving predictions:  28%|██▊       | 12/43 [00:09<00:20,  1.51it/s]"
          ]
        },
        {
          "output_type": "stream",
          "name": "stdout",
          "text": [
            "13\n"
          ]
        },
        {
          "output_type": "stream",
          "name": "stderr",
          "text": [
            "\rSaving predictions:  30%|███       | 13/43 [00:09<00:19,  1.50it/s]"
          ]
        },
        {
          "output_type": "stream",
          "name": "stdout",
          "text": [
            "14\n"
          ]
        },
        {
          "output_type": "stream",
          "name": "stderr",
          "text": [
            "\rSaving predictions:  33%|███▎      | 14/43 [00:10<00:19,  1.50it/s]"
          ]
        },
        {
          "output_type": "stream",
          "name": "stdout",
          "text": [
            "15\n"
          ]
        },
        {
          "output_type": "stream",
          "name": "stderr",
          "text": [
            "\rSaving predictions:  35%|███▍      | 15/43 [00:10<00:18,  1.51it/s]"
          ]
        },
        {
          "output_type": "stream",
          "name": "stdout",
          "text": [
            "16\n"
          ]
        },
        {
          "output_type": "stream",
          "name": "stderr",
          "text": [
            "\rSaving predictions:  37%|███▋      | 16/43 [00:11<00:17,  1.51it/s]"
          ]
        },
        {
          "output_type": "stream",
          "name": "stdout",
          "text": [
            "17\n"
          ]
        },
        {
          "output_type": "stream",
          "name": "stderr",
          "text": [
            "\rSaving predictions:  40%|███▉      | 17/43 [00:12<00:17,  1.51it/s]"
          ]
        },
        {
          "output_type": "stream",
          "name": "stdout",
          "text": [
            "18\n"
          ]
        },
        {
          "output_type": "stream",
          "name": "stderr",
          "text": [
            "\rSaving predictions:  42%|████▏     | 18/43 [00:12<00:16,  1.52it/s]"
          ]
        },
        {
          "output_type": "stream",
          "name": "stdout",
          "text": [
            "19\n"
          ]
        },
        {
          "output_type": "stream",
          "name": "stderr",
          "text": [
            "\rSaving predictions:  44%|████▍     | 19/43 [00:13<00:15,  1.51it/s]"
          ]
        },
        {
          "output_type": "stream",
          "name": "stdout",
          "text": [
            "20\n"
          ]
        },
        {
          "output_type": "stream",
          "name": "stderr",
          "text": [
            "\rSaving predictions:  47%|████▋     | 20/43 [00:14<00:15,  1.52it/s]"
          ]
        },
        {
          "output_type": "stream",
          "name": "stdout",
          "text": [
            "21\n"
          ]
        },
        {
          "output_type": "stream",
          "name": "stderr",
          "text": [
            "\rSaving predictions:  49%|████▉     | 21/43 [00:14<00:14,  1.53it/s]"
          ]
        },
        {
          "output_type": "stream",
          "name": "stdout",
          "text": [
            "22\n"
          ]
        },
        {
          "output_type": "stream",
          "name": "stderr",
          "text": [
            "\rSaving predictions:  51%|█████     | 22/43 [00:15<00:13,  1.53it/s]"
          ]
        },
        {
          "output_type": "stream",
          "name": "stdout",
          "text": [
            "23\n"
          ]
        },
        {
          "output_type": "stream",
          "name": "stderr",
          "text": [
            "\rSaving predictions:  53%|█████▎    | 23/43 [00:16<00:13,  1.53it/s]"
          ]
        },
        {
          "output_type": "stream",
          "name": "stdout",
          "text": [
            "24\n"
          ]
        },
        {
          "output_type": "stream",
          "name": "stderr",
          "text": [
            "\rSaving predictions:  56%|█████▌    | 24/43 [00:16<00:12,  1.53it/s]"
          ]
        },
        {
          "output_type": "stream",
          "name": "stdout",
          "text": [
            "25\n"
          ]
        },
        {
          "output_type": "stream",
          "name": "stderr",
          "text": [
            "\rSaving predictions:  58%|█████▊    | 25/43 [00:17<00:11,  1.53it/s]"
          ]
        },
        {
          "output_type": "stream",
          "name": "stdout",
          "text": [
            "26\n"
          ]
        },
        {
          "output_type": "stream",
          "name": "stderr",
          "text": [
            "\rSaving predictions:  60%|██████    | 26/43 [00:18<00:11,  1.51it/s]"
          ]
        },
        {
          "output_type": "stream",
          "name": "stdout",
          "text": [
            "27\n"
          ]
        },
        {
          "output_type": "stream",
          "name": "stderr",
          "text": [
            "\rSaving predictions:  63%|██████▎   | 27/43 [00:18<00:10,  1.51it/s]"
          ]
        },
        {
          "output_type": "stream",
          "name": "stdout",
          "text": [
            "28\n"
          ]
        },
        {
          "output_type": "stream",
          "name": "stderr",
          "text": [
            "\rSaving predictions:  65%|██████▌   | 28/43 [00:19<00:09,  1.51it/s]"
          ]
        },
        {
          "output_type": "stream",
          "name": "stdout",
          "text": [
            "29\n"
          ]
        },
        {
          "output_type": "stream",
          "name": "stderr",
          "text": [
            "\rSaving predictions:  67%|██████▋   | 29/43 [00:20<00:09,  1.49it/s]"
          ]
        },
        {
          "output_type": "stream",
          "name": "stdout",
          "text": [
            "30\n"
          ]
        },
        {
          "output_type": "stream",
          "name": "stderr",
          "text": [
            "\rSaving predictions:  70%|██████▉   | 30/43 [00:20<00:08,  1.51it/s]"
          ]
        },
        {
          "output_type": "stream",
          "name": "stdout",
          "text": [
            "31\n"
          ]
        },
        {
          "output_type": "stream",
          "name": "stderr",
          "text": [
            "\rSaving predictions:  72%|███████▏  | 31/43 [00:21<00:07,  1.51it/s]"
          ]
        },
        {
          "output_type": "stream",
          "name": "stdout",
          "text": [
            "32\n"
          ]
        },
        {
          "output_type": "stream",
          "name": "stderr",
          "text": [
            "\rSaving predictions:  74%|███████▍  | 32/43 [00:22<00:07,  1.54it/s]"
          ]
        },
        {
          "output_type": "stream",
          "name": "stdout",
          "text": [
            "33\n"
          ]
        },
        {
          "output_type": "stream",
          "name": "stderr",
          "text": [
            "\rSaving predictions:  77%|███████▋  | 33/43 [00:22<00:06,  1.54it/s]"
          ]
        },
        {
          "output_type": "stream",
          "name": "stdout",
          "text": [
            "34\n"
          ]
        },
        {
          "output_type": "stream",
          "name": "stderr",
          "text": [
            "\rSaving predictions:  79%|███████▉  | 34/43 [00:23<00:05,  1.53it/s]"
          ]
        },
        {
          "output_type": "stream",
          "name": "stdout",
          "text": [
            "35\n"
          ]
        },
        {
          "output_type": "stream",
          "name": "stderr",
          "text": [
            "\rSaving predictions:  81%|████████▏ | 35/43 [00:24<00:05,  1.53it/s]"
          ]
        },
        {
          "output_type": "stream",
          "name": "stdout",
          "text": [
            "36\n"
          ]
        },
        {
          "output_type": "stream",
          "name": "stderr",
          "text": [
            "\rSaving predictions:  84%|████████▎ | 36/43 [00:24<00:04,  1.52it/s]"
          ]
        },
        {
          "output_type": "stream",
          "name": "stdout",
          "text": [
            "37\n"
          ]
        },
        {
          "output_type": "stream",
          "name": "stderr",
          "text": [
            "\rSaving predictions:  86%|████████▌ | 37/43 [00:25<00:03,  1.53it/s]"
          ]
        },
        {
          "output_type": "stream",
          "name": "stdout",
          "text": [
            "38\n"
          ]
        },
        {
          "output_type": "stream",
          "name": "stderr",
          "text": [
            "\rSaving predictions:  88%|████████▊ | 38/43 [00:26<00:03,  1.48it/s]"
          ]
        },
        {
          "output_type": "stream",
          "name": "stdout",
          "text": [
            "39\n"
          ]
        },
        {
          "output_type": "stream",
          "name": "stderr",
          "text": [
            "\rSaving predictions:  91%|█████████ | 39/43 [00:26<00:02,  1.47it/s]"
          ]
        },
        {
          "output_type": "stream",
          "name": "stdout",
          "text": [
            "40\n"
          ]
        },
        {
          "output_type": "stream",
          "name": "stderr",
          "text": [
            "\rSaving predictions:  93%|█████████▎| 40/43 [00:27<00:02,  1.49it/s]"
          ]
        },
        {
          "output_type": "stream",
          "name": "stdout",
          "text": [
            "41\n"
          ]
        },
        {
          "output_type": "stream",
          "name": "stderr",
          "text": [
            "\rSaving predictions:  95%|█████████▌| 41/43 [00:28<00:01,  1.50it/s]"
          ]
        },
        {
          "output_type": "stream",
          "name": "stdout",
          "text": [
            "42\n"
          ]
        },
        {
          "output_type": "stream",
          "name": "stderr",
          "text": [
            "\rSaving predictions:  98%|█████████▊| 42/43 [00:28<00:00,  1.53it/s]"
          ]
        },
        {
          "output_type": "stream",
          "name": "stdout",
          "text": [
            "43\n"
          ]
        },
        {
          "output_type": "stream",
          "name": "stderr",
          "text": [
            "Saving predictions: 100%|██████████| 43/43 [00:29<00:00,  1.47it/s]\n"
          ]
        },
        {
          "output_type": "stream",
          "name": "stdout",
          "text": [
            "epoch 5\n"
          ]
        },
        {
          "output_type": "stream",
          "name": "stderr",
          "text": [
            "100%|██████████| 149/149 [01:40<00:00,  1.48it/s, loss=0.218]\n"
          ]
        },
        {
          "output_type": "stream",
          "name": "stdout",
          "text": [
            "=> Saving checkpoint\n",
            "Validation Loss: 0.2211\n",
            "Accuracy: 93.38\n",
            "Dice score: 0.2565\n",
            "Precision: 0.6254\n",
            "Recall: 0.1644\n",
            "F1 Score: 0.2565\n",
            "epoch 6\n"
          ]
        },
        {
          "output_type": "stream",
          "name": "stderr",
          "text": [
            "100%|██████████| 149/149 [01:41<00:00,  1.47it/s, loss=0.221]\n"
          ]
        },
        {
          "output_type": "stream",
          "name": "stdout",
          "text": [
            "=> Saving checkpoint\n",
            "Validation Loss: 0.2172\n",
            "Accuracy: 93.57\n",
            "Dice score: 0.3359\n",
            "Precision: 0.6202\n",
            "Recall: 0.2342\n",
            "F1 Score: 0.3359\n",
            "epoch 7\n"
          ]
        },
        {
          "output_type": "stream",
          "name": "stderr",
          "text": [
            "100%|██████████| 149/149 [01:41<00:00,  1.47it/s, loss=0.236]\n"
          ]
        },
        {
          "output_type": "stream",
          "name": "stdout",
          "text": [
            "=> Saving checkpoint\n",
            "Validation Loss: 0.2183\n",
            "Accuracy: 93.52\n",
            "Dice score: 0.4479\n",
            "Precision: 0.5577\n",
            "Recall: 0.3792\n",
            "F1 Score: 0.4479\n",
            "epoch 8\n"
          ]
        },
        {
          "output_type": "stream",
          "name": "stderr",
          "text": [
            "100%|██████████| 149/149 [01:41<00:00,  1.47it/s, loss=0.214]\n"
          ]
        },
        {
          "output_type": "stream",
          "name": "stdout",
          "text": [
            "=> Saving checkpoint\n",
            "Validation Loss: 0.2147\n",
            "Accuracy: 93.63\n",
            "Dice score: 0.4444\n",
            "Precision: 0.5731\n",
            "Recall: 0.3682\n",
            "F1 Score: 0.4444\n",
            "epoch 9\n"
          ]
        },
        {
          "output_type": "stream",
          "name": "stderr",
          "text": [
            "100%|██████████| 149/149 [01:41<00:00,  1.47it/s, loss=0.206]\n"
          ]
        },
        {
          "output_type": "stream",
          "name": "stdout",
          "text": [
            "=> Saving checkpoint\n",
            "Validation Loss: 0.2172\n",
            "Accuracy: 93.55\n",
            "Dice score: 0.4551\n",
            "Precision: 0.5578\n",
            "Recall: 0.3892\n",
            "F1 Score: 0.4551\n",
            "=> Saving checkpoint\n",
            "New best F1 score: 0.4551\n"
          ]
        },
        {
          "output_type": "stream",
          "name": "stderr",
          "text": [
            "\rSaving predictions:   0%|          | 0/43 [00:00<?, ?it/s]"
          ]
        },
        {
          "output_type": "stream",
          "name": "stdout",
          "text": [
            "1\n"
          ]
        },
        {
          "output_type": "stream",
          "name": "stderr",
          "text": [
            "\rSaving predictions:   2%|▏         | 1/43 [00:01<01:18,  1.86s/it]"
          ]
        },
        {
          "output_type": "stream",
          "name": "stdout",
          "text": [
            "2\n"
          ]
        },
        {
          "output_type": "stream",
          "name": "stderr",
          "text": [
            "\rSaving predictions:   5%|▍         | 2/43 [00:02<00:46,  1.14s/it]"
          ]
        },
        {
          "output_type": "stream",
          "name": "stdout",
          "text": [
            "3\n"
          ]
        },
        {
          "output_type": "stream",
          "name": "stderr",
          "text": [
            "\rSaving predictions:   7%|▋         | 3/43 [00:03<00:37,  1.06it/s]"
          ]
        },
        {
          "output_type": "stream",
          "name": "stdout",
          "text": [
            "4\n"
          ]
        },
        {
          "output_type": "stream",
          "name": "stderr",
          "text": [
            "\rSaving predictions:   9%|▉         | 4/43 [00:03<00:32,  1.21it/s]"
          ]
        },
        {
          "output_type": "stream",
          "name": "stdout",
          "text": [
            "5\n"
          ]
        },
        {
          "output_type": "stream",
          "name": "stderr",
          "text": [
            "\rSaving predictions:  12%|█▏        | 5/43 [00:04<00:29,  1.31it/s]"
          ]
        },
        {
          "output_type": "stream",
          "name": "stdout",
          "text": [
            "6\n"
          ]
        },
        {
          "output_type": "stream",
          "name": "stderr",
          "text": [
            "\rSaving predictions:  14%|█▍        | 6/43 [00:05<00:27,  1.36it/s]"
          ]
        },
        {
          "output_type": "stream",
          "name": "stdout",
          "text": [
            "7\n"
          ]
        },
        {
          "output_type": "stream",
          "name": "stderr",
          "text": [
            "\rSaving predictions:  16%|█▋        | 7/43 [00:05<00:25,  1.41it/s]"
          ]
        },
        {
          "output_type": "stream",
          "name": "stdout",
          "text": [
            "8\n"
          ]
        },
        {
          "output_type": "stream",
          "name": "stderr",
          "text": [
            "\rSaving predictions:  19%|█▊        | 8/43 [00:06<00:24,  1.43it/s]"
          ]
        },
        {
          "output_type": "stream",
          "name": "stdout",
          "text": [
            "9\n"
          ]
        },
        {
          "output_type": "stream",
          "name": "stderr",
          "text": [
            "\rSaving predictions:  21%|██        | 9/43 [00:07<00:23,  1.45it/s]"
          ]
        },
        {
          "output_type": "stream",
          "name": "stdout",
          "text": [
            "10\n"
          ]
        },
        {
          "output_type": "stream",
          "name": "stderr",
          "text": [
            "\rSaving predictions:  23%|██▎       | 10/43 [00:07<00:22,  1.46it/s]"
          ]
        },
        {
          "output_type": "stream",
          "name": "stdout",
          "text": [
            "11\n"
          ]
        },
        {
          "output_type": "stream",
          "name": "stderr",
          "text": [
            "\rSaving predictions:  26%|██▌       | 11/43 [00:08<00:21,  1.47it/s]"
          ]
        },
        {
          "output_type": "stream",
          "name": "stdout",
          "text": [
            "12\n"
          ]
        },
        {
          "output_type": "stream",
          "name": "stderr",
          "text": [
            "\rSaving predictions:  28%|██▊       | 12/43 [00:09<00:20,  1.49it/s]"
          ]
        },
        {
          "output_type": "stream",
          "name": "stdout",
          "text": [
            "13\n"
          ]
        },
        {
          "output_type": "stream",
          "name": "stderr",
          "text": [
            "\rSaving predictions:  30%|███       | 13/43 [00:09<00:19,  1.50it/s]"
          ]
        },
        {
          "output_type": "stream",
          "name": "stdout",
          "text": [
            "14\n"
          ]
        },
        {
          "output_type": "stream",
          "name": "stderr",
          "text": [
            "\rSaving predictions:  33%|███▎      | 14/43 [00:10<00:19,  1.51it/s]"
          ]
        },
        {
          "output_type": "stream",
          "name": "stdout",
          "text": [
            "15\n"
          ]
        },
        {
          "output_type": "stream",
          "name": "stderr",
          "text": [
            "\rSaving predictions:  35%|███▍      | 15/43 [00:11<00:18,  1.50it/s]"
          ]
        },
        {
          "output_type": "stream",
          "name": "stdout",
          "text": [
            "16\n"
          ]
        },
        {
          "output_type": "stream",
          "name": "stderr",
          "text": [
            "\rSaving predictions:  37%|███▋      | 16/43 [00:11<00:17,  1.51it/s]"
          ]
        },
        {
          "output_type": "stream",
          "name": "stdout",
          "text": [
            "17\n"
          ]
        },
        {
          "output_type": "stream",
          "name": "stderr",
          "text": [
            "\rSaving predictions:  40%|███▉      | 17/43 [00:12<00:17,  1.51it/s]"
          ]
        },
        {
          "output_type": "stream",
          "name": "stdout",
          "text": [
            "18\n"
          ]
        },
        {
          "output_type": "stream",
          "name": "stderr",
          "text": [
            "\rSaving predictions:  42%|████▏     | 18/43 [00:13<00:16,  1.49it/s]"
          ]
        },
        {
          "output_type": "stream",
          "name": "stdout",
          "text": [
            "19\n"
          ]
        },
        {
          "output_type": "stream",
          "name": "stderr",
          "text": [
            "\rSaving predictions:  44%|████▍     | 19/43 [00:13<00:15,  1.52it/s]"
          ]
        },
        {
          "output_type": "stream",
          "name": "stdout",
          "text": [
            "20\n"
          ]
        },
        {
          "output_type": "stream",
          "name": "stderr",
          "text": [
            "\rSaving predictions:  47%|████▋     | 20/43 [00:14<00:15,  1.51it/s]"
          ]
        },
        {
          "output_type": "stream",
          "name": "stdout",
          "text": [
            "21\n"
          ]
        },
        {
          "output_type": "stream",
          "name": "stderr",
          "text": [
            "\rSaving predictions:  49%|████▉     | 21/43 [00:15<00:14,  1.51it/s]"
          ]
        },
        {
          "output_type": "stream",
          "name": "stdout",
          "text": [
            "22\n"
          ]
        },
        {
          "output_type": "stream",
          "name": "stderr",
          "text": [
            "\rSaving predictions:  51%|█████     | 22/43 [00:15<00:13,  1.53it/s]"
          ]
        },
        {
          "output_type": "stream",
          "name": "stdout",
          "text": [
            "23\n"
          ]
        },
        {
          "output_type": "stream",
          "name": "stderr",
          "text": [
            "\rSaving predictions:  53%|█████▎    | 23/43 [00:16<00:13,  1.52it/s]"
          ]
        },
        {
          "output_type": "stream",
          "name": "stdout",
          "text": [
            "24\n"
          ]
        },
        {
          "output_type": "stream",
          "name": "stderr",
          "text": [
            "\rSaving predictions:  56%|█████▌    | 24/43 [00:17<00:12,  1.53it/s]"
          ]
        },
        {
          "output_type": "stream",
          "name": "stdout",
          "text": [
            "25\n"
          ]
        },
        {
          "output_type": "stream",
          "name": "stderr",
          "text": [
            "\rSaving predictions:  58%|█████▊    | 25/43 [00:17<00:11,  1.53it/s]"
          ]
        },
        {
          "output_type": "stream",
          "name": "stdout",
          "text": [
            "26\n"
          ]
        },
        {
          "output_type": "stream",
          "name": "stderr",
          "text": [
            "\rSaving predictions:  60%|██████    | 26/43 [00:18<00:11,  1.53it/s]"
          ]
        },
        {
          "output_type": "stream",
          "name": "stdout",
          "text": [
            "27\n"
          ]
        },
        {
          "output_type": "stream",
          "name": "stderr",
          "text": [
            "\rSaving predictions:  63%|██████▎   | 27/43 [00:19<00:10,  1.53it/s]"
          ]
        },
        {
          "output_type": "stream",
          "name": "stdout",
          "text": [
            "28\n"
          ]
        },
        {
          "output_type": "stream",
          "name": "stderr",
          "text": [
            "\rSaving predictions:  65%|██████▌   | 28/43 [00:19<00:09,  1.51it/s]"
          ]
        },
        {
          "output_type": "stream",
          "name": "stdout",
          "text": [
            "29\n"
          ]
        },
        {
          "output_type": "stream",
          "name": "stderr",
          "text": [
            "\rSaving predictions:  67%|██████▋   | 29/43 [00:20<00:09,  1.52it/s]"
          ]
        },
        {
          "output_type": "stream",
          "name": "stdout",
          "text": [
            "30\n"
          ]
        },
        {
          "output_type": "stream",
          "name": "stderr",
          "text": [
            "\rSaving predictions:  70%|██████▉   | 30/43 [00:21<00:08,  1.51it/s]"
          ]
        },
        {
          "output_type": "stream",
          "name": "stdout",
          "text": [
            "31\n"
          ]
        },
        {
          "output_type": "stream",
          "name": "stderr",
          "text": [
            "\rSaving predictions:  72%|███████▏  | 31/43 [00:21<00:07,  1.50it/s]"
          ]
        },
        {
          "output_type": "stream",
          "name": "stdout",
          "text": [
            "32\n"
          ]
        },
        {
          "output_type": "stream",
          "name": "stderr",
          "text": [
            "\rSaving predictions:  74%|███████▍  | 32/43 [00:22<00:07,  1.52it/s]"
          ]
        },
        {
          "output_type": "stream",
          "name": "stdout",
          "text": [
            "33\n"
          ]
        },
        {
          "output_type": "stream",
          "name": "stderr",
          "text": [
            "\rSaving predictions:  77%|███████▋  | 33/43 [00:23<00:06,  1.50it/s]"
          ]
        },
        {
          "output_type": "stream",
          "name": "stdout",
          "text": [
            "34\n"
          ]
        },
        {
          "output_type": "stream",
          "name": "stderr",
          "text": [
            "\rSaving predictions:  79%|███████▉  | 34/43 [00:23<00:05,  1.51it/s]"
          ]
        },
        {
          "output_type": "stream",
          "name": "stdout",
          "text": [
            "35\n"
          ]
        },
        {
          "output_type": "stream",
          "name": "stderr",
          "text": [
            "\rSaving predictions:  81%|████████▏ | 35/43 [00:24<00:05,  1.51it/s]"
          ]
        },
        {
          "output_type": "stream",
          "name": "stdout",
          "text": [
            "36\n"
          ]
        },
        {
          "output_type": "stream",
          "name": "stderr",
          "text": [
            "\rSaving predictions:  84%|████████▎ | 36/43 [00:25<00:04,  1.51it/s]"
          ]
        },
        {
          "output_type": "stream",
          "name": "stdout",
          "text": [
            "37\n"
          ]
        },
        {
          "output_type": "stream",
          "name": "stderr",
          "text": [
            "\rSaving predictions:  86%|████████▌ | 37/43 [00:25<00:03,  1.51it/s]"
          ]
        },
        {
          "output_type": "stream",
          "name": "stdout",
          "text": [
            "38\n"
          ]
        },
        {
          "output_type": "stream",
          "name": "stderr",
          "text": [
            "\rSaving predictions:  88%|████████▊ | 38/43 [00:26<00:03,  1.51it/s]"
          ]
        },
        {
          "output_type": "stream",
          "name": "stdout",
          "text": [
            "39\n"
          ]
        },
        {
          "output_type": "stream",
          "name": "stderr",
          "text": [
            "\rSaving predictions:  91%|█████████ | 39/43 [00:27<00:02,  1.50it/s]"
          ]
        },
        {
          "output_type": "stream",
          "name": "stdout",
          "text": [
            "40\n"
          ]
        },
        {
          "output_type": "stream",
          "name": "stderr",
          "text": [
            "\rSaving predictions:  93%|█████████▎| 40/43 [00:27<00:01,  1.52it/s]"
          ]
        },
        {
          "output_type": "stream",
          "name": "stdout",
          "text": [
            "41\n"
          ]
        },
        {
          "output_type": "stream",
          "name": "stderr",
          "text": [
            "\rSaving predictions:  95%|█████████▌| 41/43 [00:28<00:01,  1.52it/s]"
          ]
        },
        {
          "output_type": "stream",
          "name": "stdout",
          "text": [
            "42\n"
          ]
        },
        {
          "output_type": "stream",
          "name": "stderr",
          "text": [
            "\rSaving predictions:  98%|█████████▊| 42/43 [00:28<00:00,  1.51it/s]"
          ]
        },
        {
          "output_type": "stream",
          "name": "stdout",
          "text": [
            "43\n"
          ]
        },
        {
          "output_type": "stream",
          "name": "stderr",
          "text": [
            "Saving predictions: 100%|██████████| 43/43 [00:29<00:00,  1.46it/s]\n"
          ]
        }
      ]
    },
    {
      "cell_type": "code",
      "source": [
        "\n",
        "\n",
        "def read_metrics(filename):\n",
        "    with open(filename, \"r\") as file:\n",
        "        lines = file.readlines()\n",
        "\n",
        "    metrics = {\n",
        "        \"epoch\": [],\n",
        "        \"train_loss\": [],\n",
        "        \"val_loss\": [],\n",
        "        \"accuracy\": [],\n",
        "        \"dice_score\": [],\n",
        "        \"precision\": [],\n",
        "        \"recall\": [],\n",
        "        \"f1_score\": []\n",
        "    }\n",
        "\n",
        "    epoch = 0\n",
        "    for line in lines:\n",
        "        line = line.strip()\n",
        "        if line.startswith(\"Train Loss:\"):\n",
        "            metrics[\"epoch\"].append(epoch)\n",
        "            metrics[\"train_loss\"].append(float(line.split(\":\")[1].strip()))\n",
        "        elif line.startswith(\"Validation Loss:\"):\n",
        "            metrics[\"val_loss\"].append(float(line.split(\":\")[1].strip()))\n",
        "        elif line.startswith(\"Accuracy:\"):\n",
        "            metrics[\"accuracy\"].append(float(line.split(\":\")[1].strip())/100)\n",
        "        elif line.startswith(\"Dice score:\"):\n",
        "            metrics[\"dice_score\"].append(float(line.split(\":\")[1].strip()))\n",
        "        elif line.startswith(\"Precision:\"):\n",
        "            metrics[\"precision\"].append(float(line.split(\":\")[1].strip()))\n",
        "        elif line.startswith(\"Recall:\"):\n",
        "            metrics[\"recall\"].append(float(line.split(\":\")[1].strip()))\n",
        "        elif line.startswith(\"F1 Score:\"):\n",
        "            metrics[\"f1_score\"].append(float(line.split(\":\")[1].strip()))\n",
        "            epoch += 1\n",
        "\n",
        "    return metrics\n",
        "\n",
        "def plot_metrics(metrics, save_dir=None):\n",
        "    epochs = metrics[\"epoch\"]\n",
        "\n",
        "    plt.figure(figsize=(10, 10))\n",
        "    plt.plot(epochs, metrics[\"train_loss\"], label=\"Train Loss\")\n",
        "    plt.plot(epochs, metrics[\"val_loss\"], label=\"Validation Loss\")\n",
        "    plt.xlabel(\"Epochs\")\n",
        "    plt.ylabel(\"Loss\")\n",
        "    plt.title(\"Train Loss and Validation Loss\")\n",
        "    plt.legend()\n",
        "    plt.grid(True)\n",
        "    plt.ylim(0, 1)\n",
        "    if save_dir:\n",
        "        plt.savefig(os.path.join(save_dir, \"loss_plot.png\"))\n",
        "    else:\n",
        "        plt.show()\n",
        "\n",
        "    plt.figure(figsize=(10, 10))\n",
        "    plt.plot(epochs, metrics[\"accuracy\"], label=\"Accuracy\")\n",
        "    plt.plot(epochs, metrics[\"dice_score\"], label=\"Dice Score\")\n",
        "    plt.plot(epochs, metrics[\"precision\"], label=\"Precision\")\n",
        "    plt.plot(epochs, metrics[\"recall\"], label=\"Recall\")\n",
        "    plt.plot(epochs, metrics[\"f1_score\"], label=\"F1 Score\")\n",
        "    plt.xlabel(\"Epochs\")\n",
        "    plt.ylabel(\"Metric Value\")\n",
        "    plt.title(\"Validation Metrics\")\n",
        "    plt.legend()\n",
        "    plt.grid(True)\n",
        "    plt.ylim(0, 1)\n",
        "    if save_dir:\n",
        "        plt.savefig(os.path.join(save_dir, \"metrics_plot.png\"))\n",
        "    else:\n",
        "        plt.show()\n",
        "\n",
        "metrics = read_metrics(model_dir + \"/output/output.txt\")\n",
        "save_directory = model_dir + \"/grafici\"\n",
        "if not os.path.exists(save_directory):\n",
        "    os.makedirs(save_directory)\n",
        "plot_metrics(metrics, save_dir=save_directory)\n"
      ],
      "metadata": {
        "colab": {
          "base_uri": "https://localhost:8080/",
          "height": 1000
        },
        "id": "VebxSaF7SmNB",
        "outputId": "8531d7e9-20d3-4f5b-b3c1-35432aa3f278"
      },
      "execution_count": 96,
      "outputs": [
        {
          "output_type": "display_data",
          "data": {
            "text/plain": [
              "<Figure size 1000x1000 with 1 Axes>"
            ],
            "image/png": "[encoded data removed]"
          },
          "metadata": {}
        },
        {
          "output_type": "display_data",
          "data": {
            "text/plain": [
              "<Figure size 1000x1000 with 1 Axes>"
            ],
            "image/png": "[encoded data removed]"
          },
          "metadata": {}
        }
      ]
    }
  ]
}