{
  "nbformat": 4,
  "nbformat_minor": 0,
  "metadata": {
    "colab": {
      "provenance": [],
      "machine_shape": "hm",
      "gpuType": "T4",
      "authorship_tag": "ABX9TyMysw6zr8w3ARWo2IoV2fti",
      "include_colab_link": true
    },
    "kernelspec": {
      "name": "python3",
      "display_name": "Python 3"
    },
    "language_info": {
      "name": "python"
    },
    "accelerator": "GPU"
  },
  "cells": [
    {
      "cell_type": "markdown",
      "metadata": {
        "id": "view-in-github",
        "colab_type": "text"
      },
      "source": [
        "<a href=\"https://colab.research.google.com/github/ccsed/ProgettoLabAI/blob/main/Progetto.ipynb\" target=\"_parent\"><img src=\"https://colab.research.google.com/assets/colab-badge.svg\" alt=\"Open In Colab\"/></a>"
      ]
    },
    {
      "cell_type": "markdown",
      "source": [
        "Collego colab a google drive\n"
      ],
      "metadata": {
        "id": "dkejEQMvMXpr"
      }
    },
    {
      "cell_type": "code",
      "execution_count": null,
      "metadata": {
        "id": "WaJJRPjC6s4n",
        "colab": {
          "base_uri": "https://localhost:8080/"
        },
        "outputId": "698bdeb3-c5cf-4654-86b3-9f4bba7f588e"
      },
      "outputs": [
        {
          "output_type": "stream",
          "name": "stdout",
          "text": [
            "Drive already mounted at /content/drive; to attempt to forcibly remount, call drive.mount(\"/content/drive\", force_remount=True).\n"
          ]
        }
      ],
      "source": [
        "from google.colab import drive\n",
        "drive.mount('/content/drive')"
      ]
    },
    {
      "cell_type": "markdown",
      "source": [
        "Importo le librerie necessarie"
      ],
      "metadata": {
        "id": "RLxBbaoYoljw"
      }
    },
    {
      "cell_type": "code",
      "source": [
        "!pip install rasterio"
      ],
      "metadata": {
        "colab": {
          "base_uri": "https://localhost:8080/"
        },
        "id": "SeK0MMwznpSr",
        "outputId": "0cec623f-549c-419c-d9c5-13666304733a"
      },
      "execution_count": null,
      "outputs": [
        {
          "output_type": "stream",
          "name": "stdout",
          "text": [
            "Requirement already satisfied: rasterio in /usr/local/lib/python3.10/dist-packages (1.3.10)\n",
            "Requirement already satisfied: affine in /usr/local/lib/python3.10/dist-packages (from rasterio) (2.4.0)\n",
            "Requirement already satisfied: attrs in /usr/local/lib/python3.10/dist-packages (from rasterio) (23.2.0)\n",
            "Requirement already satisfied: certifi in /usr/local/lib/python3.10/dist-packages (from rasterio) (2024.2.2)\n",
            "Requirement already satisfied: click>=4.0 in /usr/local/lib/python3.10/dist-packages (from rasterio) (8.1.7)\n",
            "Requirement already satisfied: cligj>=0.5 in /usr/local/lib/python3.10/dist-packages (from rasterio) (0.7.2)\n",
            "Requirement already satisfied: numpy in /usr/local/lib/python3.10/dist-packages (from rasterio) (1.25.2)\n",
            "Requirement already satisfied: snuggs>=1.4.1 in /usr/local/lib/python3.10/dist-packages (from rasterio) (1.4.7)\n",
            "Requirement already satisfied: click-plugins in /usr/local/lib/python3.10/dist-packages (from rasterio) (1.1.1)\n",
            "Requirement already satisfied: setuptools in /usr/local/lib/python3.10/dist-packages (from rasterio) (67.7.2)\n",
            "Requirement already satisfied: pyparsing>=2.1.6 in /usr/local/lib/python3.10/dist-packages (from snuggs>=1.4.1->rasterio) (3.1.2)\n"
          ]
        }
      ]
    },
    {
      "cell_type": "code",
      "source": [
        "import os\n",
        "import numpy as np\n",
        "import rasterio\n",
        "import torch\n",
        "from torch.utils.data import Dataset, DataLoader, random_split\n",
        "from torchvision import transforms, datasets\n",
        "import albumentations as A\n",
        "from PIL import Image\n",
        "import matplotlib.pyplot as plt\n",
        "import random\n",
        "import skimage.io as io\n",
        "from rasterio.plot import show\n",
        "import torch.nn as nn\n",
        "import torchvision.transforms.functional as TF\n",
        "from albumentations.pytorch import ToTensorV2\n",
        "import torch.optim as optim\n",
        "from tqdm import tqdm\n",
        "import torchvision\n",
        "from osgeo import gdal\n",
        "import cv2\n",
        "import tifffile as tiff\n",
        "from torch.optim.lr_scheduler import StepLR\n",
        "from sklearn.metrics import precision_score, recall_score, f1_score, accuracy_score\n",
        "from sklearn.model_selection import train_test_split\n",
        "import copy\n",
        "from torch.optim.lr_scheduler import ReduceLROnPlateau"
      ],
      "metadata": {
        "id": "BD5aG8Tloo4V"
      },
      "execution_count": null,
      "outputs": []
    },
    {
      "cell_type": "markdown",
      "source": [
        "Definisco alcune directory"
      ],
      "metadata": {
        "id": "lhMvQStro03e"
      }
    },
    {
      "cell_type": "code",
      "source": [
        "drive_dir = '/content/drive/MyDrive'\n",
        "image_dir = '/content/drive/MyDrive/Data/SN6_buildings_AOI_11_Rotterdam_train/train/AOI_11_Rotterdam/SAR-Intensity'\n",
        "train_path = '/content/drive/MyDrive/train.txt'\n",
        "val_path = '/content/drive/MyDrive/val.txt'\n",
        "test_path = '/content/drive/MyDrive/test.txt'"
      ],
      "metadata": {
        "id": "8Vk76qcKo8Jr"
      },
      "execution_count": null,
      "outputs": []
    },
    {
      "cell_type": "markdown",
      "source": [
        "Media e std calcolate in Funzioni.ipynb"
      ],
      "metadata": {
        "id": "qah59_YjHGx9"
      }
    },
    {
      "cell_type": "code",
      "source": [
        "# mean = [22.79312241, 24.30391245, 19.29892107, 17.69439361]\n",
        "# std = [16.42519281, 17.42876255, 14.27711349, 13.24714869]\n",
        "mean = [0.0, 0.0, 0.0, 0.0]\n",
        "std = [1.0, 1.0, 1.0, 1.0]"
      ],
      "metadata": {
        "id": "k_u4JlQmHKVA"
      },
      "execution_count": null,
      "outputs": []
    },
    {
      "cell_type": "markdown",
      "source": [
        "Definiamo la classe SARDataset"
      ],
      "metadata": {
        "id": "M0ytmvMccxNy"
      }
    },
    {
      "cell_type": "code",
      "source": [
        "# class SARDataset(Dataset):\n",
        "#     def __init__(self, image_paths, mask_paths, transform=None):\n",
        "#         self.image_paths = image_paths\n",
        "#         self.mask_paths = mask_paths\n",
        "#         self.transform = transform\n",
        "\n",
        "#     def __len__(self):\n",
        "#         return len(self.image_paths)\n",
        "\n",
        "#     def __getitem__(self, idx):\n",
        "#         image_path = self.image_paths[idx]\n",
        "#         mask_path = self.mask_paths[idx]\n",
        "\n",
        "\n",
        "#         with rasterio.open(image_path) as src:\n",
        "#             image = src.read().transpose((1, 2, 0))\n",
        "#             # print(image.shape)\n",
        "#             image = image.astype(np.float32)\n",
        "\n",
        "#         with rasterio.open(mask_path) as src:\n",
        "#             mask = src.read(1).astype(np.float32)\n",
        "#             # print(mask.shape)\n",
        "#             mask[mask == 255.0] = 1.0\n",
        "\n",
        "\n",
        "#         if self.transform is not None:\n",
        "#             augmentations = self.transform(image=image, mask=mask)\n",
        "#             image = augmentations[\"image\"]\n",
        "#             mask = augmentations[\"mask\"]\n",
        "\n",
        "#         return image, mask\n",
        "\n",
        "class SARDataset(Dataset):\n",
        "    def __init__(self, image_paths, mask_paths, transform=None):\n",
        "        self.image_paths = image_paths\n",
        "        self.mask_paths = mask_paths\n",
        "        self.transform = transform\n",
        "\n",
        "    def __len__(self):\n",
        "        return len(self.image_paths)\n",
        "\n",
        "    def __getitem__(self, idx):\n",
        "        image_path = self.image_paths[idx]\n",
        "        mask_path = self.mask_paths[idx]\n",
        "\n",
        "        with rasterio.open(image_path) as src:\n",
        "            image = src.read().transpose((1, 2, 0))\n",
        "            image = image.astype(np.float32)\n",
        "\n",
        "            mean = [22.79312241, 24.30391245, 19.29892107, 17.69439361]\n",
        "            std = [16.42519281, 17.42876255, 14.27711349, 13.24714869]\n",
        "            image = (image - mean) / std\n",
        "\n",
        "        with rasterio.open(mask_path) as src:\n",
        "            mask = src.read(1).astype(np.float32)\n",
        "            mask[mask == 255.0] = 1.0\n",
        "\n",
        "        if self.transform is not None:\n",
        "            augmentations = self.transform(image=image, mask=mask)\n",
        "            image = augmentations[\"image\"]\n",
        "            mask = augmentations[\"mask\"]\n",
        "\n",
        "        return image, mask"
      ],
      "metadata": {
        "id": "RtvSgzHpc0Hk"
      },
      "execution_count": null,
      "outputs": []
    },
    {
      "cell_type": "markdown",
      "source": [
        "Carico i percorsi delle immagini per il training, il validation e il test set"
      ],
      "metadata": {
        "id": "IKLV-lrIdcmF"
      }
    },
    {
      "cell_type": "code",
      "source": [
        "with open(train_path, 'r') as f:\n",
        "    train_data = [line.split() for line in f.read().splitlines()]\n",
        "\n",
        "train_image_paths = [line[0] for line in train_data]\n",
        "train_label_paths = ['/' + line[1] for line in train_data]\n",
        "\n",
        "with open(val_path, 'r') as f:\n",
        "    val_data = [line.split() for line in f.read().splitlines()]\n",
        "\n",
        "val_image_paths = [line[0] for line in val_data]\n",
        "val_label_paths = ['/' + line[1] for line in val_data]\n",
        "\n",
        "with open(test_path, 'r') as f:\n",
        "    test_data = [line.split() for line in f.read().splitlines()]\n",
        "\n",
        "test_image_paths = [line[0] for line in test_data]\n",
        "test_label_paths = ['/' + line[1] for line in test_data]"
      ],
      "metadata": {
        "id": "CNdyy9f7dj8a"
      },
      "execution_count": null,
      "outputs": []
    },
    {
      "cell_type": "markdown",
      "source": [
        "Creo il modello UNET"
      ],
      "metadata": {
        "id": "rRStPcN0OSoA"
      }
    },
    {
      "cell_type": "markdown",
      "source": [
        "Classe DoubleConv"
      ],
      "metadata": {
        "id": "TtuN8w0ZPal7"
      }
    },
    {
      "cell_type": "code",
      "source": [
        "class DoubleConv(nn.Module):\n",
        "  def __init__(self, in_channels, out_channels):\n",
        "    super(DoubleConv, self).__init__()\n",
        "    self.conv = nn.Sequential(\n",
        "        nn.Conv2d(in_channels, out_channels, 3, 1, 1, bias=False),\n",
        "        nn.BatchNorm2d(out_channels),\n",
        "        nn.ReLU(inplace=True),\n",
        "        nn.Conv2d(out_channels, out_channels, 3, 1, 1, bias=False),\n",
        "        nn.BatchNorm2d(out_channels),\n",
        "        nn.ReLU(inplace=True),\n",
        "    )\n",
        "\n",
        "  def forward(self, x):\n",
        "    return self.conv(x)\n",
        "\n"
      ],
      "metadata": {
        "id": "wLkEzp6sOT8h"
      },
      "execution_count": null,
      "outputs": []
    },
    {
      "cell_type": "markdown",
      "source": [
        "Classe UNET"
      ],
      "metadata": {
        "id": "U0cyDNFBPgsw"
      }
    },
    {
      "cell_type": "code",
      "source": [
        "class UNET(nn.Module):\n",
        "  def __init__(\n",
        "      self, in_channels=4, out_channels=1, features=[64, 128, 256, 512],\n",
        "  ):\n",
        "    super(UNET, self).__init__()\n",
        "    self.ups = nn.ModuleList()\n",
        "    self.downs = nn.ModuleList()\n",
        "    self.pool = nn.MaxPool2d(kernel_size=2, stride=2)\n",
        "\n",
        "    for feature in features:\n",
        "      self.downs.append(DoubleConv(in_channels, feature))\n",
        "      in_channels = feature\n",
        "\n",
        "    for feature in reversed(features):\n",
        "      self.ups.append(\n",
        "          nn.ConvTranspose2d(\n",
        "              feature*2, feature, kernel_size=2, stride=2,\n",
        "          )\n",
        "      )\n",
        "      self.ups.append(DoubleConv(feature*2, feature))\n",
        "\n",
        "    self.bottleneck = DoubleConv(features[-1], features[-1]*2)\n",
        "    self.final_conv = nn.Conv2d(features[0], out_channels, kernel_size=1)\n",
        "  def forward(self, x):\n",
        "    skip_connections = []\n",
        "\n",
        "    for down in self.downs:\n",
        "      x = down(x)\n",
        "      skip_connections.append(x)\n",
        "      x = self.pool(x)\n",
        "\n",
        "    x = self.bottleneck(x)\n",
        "    skip_connections = skip_connections[::-1]\n",
        "\n",
        "    for idx in range(0, len(self.ups), 2):\n",
        "      x = self.ups[idx](x)\n",
        "      skip_connection = skip_connections[idx//2]\n",
        "\n",
        "      if x.shape != skip_connection.shape:\n",
        "        x = TF.resize(x, size=skip_connection.shape[2:])\n",
        "\n",
        "      concat_skip = torch.cat((skip_connection, x), dim=1)\n",
        "      x = self.ups[idx+1](concat_skip)\n",
        "\n",
        "    return self.final_conv(x)"
      ],
      "metadata": {
        "id": "3pD8M4goPi2_"
      },
      "execution_count": null,
      "outputs": []
    },
    {
      "cell_type": "markdown",
      "source": [
        "Seed, serve per la riproducibilità dei risultati"
      ],
      "metadata": {
        "id": "JYtnwf5Mbyq5"
      }
    },
    {
      "cell_type": "code",
      "source": [
        "def set_seed(seed):\n",
        "  random.seed(seed)\n",
        "  np.random.seed(seed)\n",
        "  torch.manual_seed(seed)\n",
        "  torch.cuda.manual_seed_all(seed)"
      ],
      "metadata": {
        "id": "JFZtznP3bzr4"
      },
      "execution_count": null,
      "outputs": []
    },
    {
      "cell_type": "markdown",
      "source": [
        "Funzione per il training"
      ],
      "metadata": {
        "id": "a1BZxbOuo7ae"
      }
    },
    {
      "cell_type": "code",
      "source": [
        "def train_fn(loader, model, optimizer, loss_fn, scaler, txtfile):\n",
        "    loop = tqdm(loader)\n",
        "    tot_loss = 0.0\n",
        "\n",
        "    for batch_idx, (data, targets) in enumerate(loop):\n",
        "        data = data.to(device=device)\n",
        "        targets = targets.float().to(device=device)\n",
        "\n",
        "        with torch.cuda.amp.autocast():\n",
        "            predictions = model(data).squeeze(1)\n",
        "            loss = loss_fn(predictions, targets)\n",
        "\n",
        "        optimizer.zero_grad()\n",
        "        scaler.scale(loss).backward()\n",
        "        scaler.step(optimizer)\n",
        "        scaler.update()\n",
        "        tot_loss += loss.item()\n",
        "        loop.set_postfix(loss=loss.item())\n",
        "\n",
        "    avg_loss = tot_loss / len(loader)\n",
        "    with open(txtfile, \"a\") as f:\n",
        "        f.write(f\"Train Loss: {avg_loss:.4f}\\n\")\n"
      ],
      "metadata": {
        "id": "dZjJbKsmo7DI"
      },
      "execution_count": null,
      "outputs": []
    },
    {
      "cell_type": "markdown",
      "source": [
        "Utils"
      ],
      "metadata": {
        "id": "mebla0LdshkO"
      }
    },
    {
      "cell_type": "code",
      "source": [
        "def save_checkpoint(state, filename=\"/content/drive/MyDrive/model1/checkpoint.pth.tar\"):\n",
        "  print(\"=> Saving checkpoint\")\n",
        "  torch.save(state, filename)\n",
        "\n",
        "def load_checkpoint(checkpoint, model):\n",
        "  print(\"=> Loading checkpoint\")\n",
        "  model.load_state_dict(checkpoint[\"state_dict\"])"
      ],
      "metadata": {
        "id": "JwqGtaHAJ00f"
      },
      "execution_count": null,
      "outputs": []
    },
    {
      "cell_type": "markdown",
      "source": [
        "Evaluation function"
      ],
      "metadata": {
        "id": "L3KyIVO7OgJd"
      }
    },
    {
      "cell_type": "code",
      "source": [
        "def eval_fn(loader, model, loss_fn, txtfile, device=\"cuda\"):\n",
        "    model.eval()\n",
        "    num_correct = 0\n",
        "    num_pixels = 0\n",
        "    total_dice_score = 0\n",
        "    total_precision = 0\n",
        "    total_recall = 0\n",
        "    total_f1 = 0\n",
        "    total_loss = 0\n",
        "\n",
        "    with torch.no_grad():\n",
        "        for num_it, (x, y) in enumerate(loader, start=1):\n",
        "            print(num_it)\n",
        "            x = x.to(device)\n",
        "            y = y.to(device)\n",
        "            out = model(x).squeeze(1)\n",
        "            loss = loss_fn(out, y)\n",
        "            total_loss += loss.item()\n",
        "            preds = torch.sigmoid(out)\n",
        "            preds = (preds > 0.5).float()\n",
        "\n",
        "            num_correct += (preds == y).sum().item()\n",
        "            num_pixels += torch.numel(preds)\n",
        "\n",
        "            dice_score = (2 * (preds * y).sum()) / ((preds + y).sum() + 1e-8)\n",
        "            total_dice_score += dice_score.item()\n",
        "\n",
        "            y_np = y.cpu().numpy().flatten()\n",
        "            preds_np = preds.cpu().numpy().flatten()\n",
        "            total_precision += precision_score(y_np, preds_np, zero_division=1)\n",
        "            total_recall += recall_score(y_np, preds_np, zero_division=1)\n",
        "            total_f1 += f1_score(y_np, preds_np, zero_division=1)\n",
        "\n",
        "    avg_loss = total_loss / len(loader)\n",
        "    avg_dice_score = total_dice_score / len(loader)\n",
        "    avg_precision = total_precision / len(loader)\n",
        "    avg_recall = total_recall / len(loader)\n",
        "    avg_f1 = total_f1 / len(loader)\n",
        "    accuracy = num_correct / num_pixels * 100\n",
        "\n",
        "    print(f\"Validation Loss: {avg_loss:.4f}\")\n",
        "    print(f\"Accuracy: {accuracy:.2f}\")\n",
        "    print(f\"Dice score: {avg_dice_score:.4f}\")\n",
        "    print(f\"Precision: {avg_precision:.4f}\")\n",
        "    print(f\"Recall: {avg_recall:.4f}\")\n",
        "    print(f\"F1 Score: {avg_f1:.4f}\")\n",
        "\n",
        "    with open(txtfile, \"a\") as f:\n",
        "        f.write(f\"Validation Loss: {avg_loss:.4f}\\n\")\n",
        "        f.write(f\"Accuracy: {accuracy:.2f}\\n\")\n",
        "        f.write(f\"Dice score: {avg_dice_score:.4f}\\n\")\n",
        "        f.write(f\"Precision: {avg_precision:.4f}\\n\")\n",
        "        f.write(f\"Recall: {avg_recall:.4f}\\n\")\n",
        "        f.write(f\"F1 Score: {avg_f1:.4f}\\n\")\n",
        "        f.write(\"\\n\")\n",
        "\n",
        "    model.train()\n",
        "    return avg_loss, accuracy, avg_dice_score, avg_precision, avg_recall, avg_f1"
      ],
      "metadata": {
        "id": "n__fVZKKMaSj"
      },
      "execution_count": null,
      "outputs": []
    },
    {
      "cell_type": "code",
      "source": [
        "def save_predictions_as_imgs(loader, model, folder, device=\"cuda\"):\n",
        "    os.makedirs(folder, exist_ok=True)\n",
        "    model.eval()\n",
        "    it = 1\n",
        "    for idx, (x, y) in enumerate(tqdm(loader, desc=\"Saving predictions\")):\n",
        "        print(it)\n",
        "        it += 1\n",
        "        x = x.to(device=device)\n",
        "        y = y.to(device=device).unsqueeze(1)\n",
        "\n",
        "        with torch.no_grad():\n",
        "            preds = torch.sigmoid(model(x))\n",
        "            preds = (preds > 0.5).float()\n",
        "\n",
        "        combined = torch.cat((y, preds), dim=2)\n",
        "        torchvision.utils.save_image(combined, f\"{folder}/comparison_{idx}.png\")\n",
        "\n",
        "    model.train()\n"
      ],
      "metadata": {
        "id": "sfPDFHfIOnET"
      },
      "execution_count": null,
      "outputs": []
    },
    {
      "cell_type": "markdown",
      "source": [
        "Training baseline"
      ],
      "metadata": {
        "id": "F7JyInucGoIi"
      }
    },
    {
      "cell_type": "code",
      "source": [
        "set_seed(42)\n",
        "\n",
        "transform = A.Compose([\n",
        "    A.Resize(height=320, width=320),\n",
        "    # A.CenterCrop(height=896, width=896),\n",
        "    # A.RandomCrop(height=320, width=320),\n",
        "    # A.HorizontalFlip(p=0.5),\n",
        "    # A.VerticalFlip(p=0.5),\n",
        "    # A.RandomRotate90(p=1),\n",
        "    # A.Rotate(limit=90, p=0.5),\n",
        "    A.Normalize(mean=mean, std=std),\n",
        "    ToTensorV2(),\n",
        "])\n",
        "\n",
        "val_transform = A.Compose([\n",
        "    A.Resize(height=320, width=320),\n",
        "    A.Normalize(mean=mean, std=std),\n",
        "    ToTensorV2(),\n",
        "])\n",
        "\n",
        "train_dataset = SARDataset(train_image_paths, train_label_paths, transform=transform)\n",
        "val_dataset = SARDataset(val_image_paths, val_label_paths, transform=val_transform)\n",
        "train_loader = DataLoader(train_dataset, batch_size=16, shuffle=True, num_workers=4, pin_memory=True)\n",
        "val_loader = DataLoader(val_dataset, batch_size=16, shuffle=False, num_workers=4, pin_memory=True)\n",
        "load_model = True\n",
        "lr = 1e-5\n",
        "model_dir = \"/content/drive/MyDrive/model13\"\n",
        "step_size = 18\n",
        "\n",
        "device = torch.device(\"cuda\" if torch.cuda.is_available() else \"cpu\")\n",
        "model = UNET(in_channels=4, out_channels=1).to(device)\n",
        "criterion = nn.BCEWithLogitsLoss()\n",
        "optimizer = optim.Adam(model.parameters(), lr=lr)\n",
        "scheduler = StepLR(optimizer, step_size=step_size)\n",
        "num_epochs = 20\n",
        "scaler = torch.cuda.amp.GradScaler()\n",
        "\n",
        "if load_model:\n",
        "  load_checkpoint(torch.load(model_dir + \"/checkpoint.pth.tar\"), model)\n",
        "\n"
      ],
      "metadata": {
        "id": "-V6po-gjQVEV",
        "colab": {
          "base_uri": "https://localhost:8080/"
        },
        "outputId": "8aec6261-5254-475e-c603-b16fce6bdc59"
      },
      "execution_count": null,
      "outputs": [
        {
          "output_type": "stream",
          "name": "stdout",
          "text": [
            "=> Loading checkpoint\n"
          ]
        }
      ]
    },
    {
      "cell_type": "code",
      "source": [
        "best_f1_score = 0.0"
      ],
      "metadata": {
        "id": "BrekQVb7MnnA"
      },
      "execution_count": null,
      "outputs": []
    },
    {
      "cell_type": "code",
      "source": [
        "for epoch in range(num_epochs):\n",
        "    print(f\"epoch {epoch}\")\n",
        "    train_fn(train_loader, model, optimizer, criterion, scaler, model_dir + \"/output/output.txt\")\n",
        "\n",
        "    checkpoint = {\n",
        "        \"state_dict\": model.state_dict(),\n",
        "        \"optimizer\": optimizer.state_dict(),\n",
        "    }\n",
        "    save_checkpoint(checkpoint, model_dir + \"/checkpoint.pth.tar\")\n",
        "\n",
        "    val_loss, val_accuracy, val_dice_score, val_precision, val_recall, val_f1 = eval_fn(val_loader, model, criterion, model_dir + \"/output/output.txt\", device=device)\n",
        "\n",
        "    if val_f1 > best_f1_score:\n",
        "        best_f1_score = val_f1\n",
        "        save_checkpoint(checkpoint, filename=os.path.join(model_dir, \"best_model.pth.tar\"))\n",
        "        print(f\"New best F1 score: {best_f1_score:.4f}\")\n",
        "\n",
        "    if (epoch + 1) % 5 == 0:\n",
        "        save_predictions_as_imgs(val_loader, model, model_dir + \"/images/\", device=device)\n",
        "\n",
        "    scheduler.step()\n"
      ],
      "metadata": {
        "id": "ptfFWcykRww3",
        "collapsed": true
      },
      "execution_count": null,
      "outputs": []
    },
    {
      "cell_type": "code",
      "source": [
        "\n",
        "\n",
        "def read_metrics(filename):\n",
        "    with open(filename, \"r\") as file:\n",
        "        lines = file.readlines()\n",
        "\n",
        "    metrics = {\n",
        "        \"epoch\": [],\n",
        "        \"train_loss\": [],\n",
        "        \"val_loss\": [],\n",
        "        \"accuracy\": [],\n",
        "        \"dice_score\": [],\n",
        "        \"precision\": [],\n",
        "        \"recall\": [],\n",
        "        \"f1_score\": []\n",
        "    }\n",
        "\n",
        "    epoch = 0\n",
        "    for line in lines:\n",
        "        line = line.strip()\n",
        "        if line.startswith(\"Train Loss:\"):\n",
        "            metrics[\"epoch\"].append(epoch)\n",
        "            metrics[\"train_loss\"].append(float(line.split(\":\")[1].strip()))\n",
        "        elif line.startswith(\"Validation Loss:\"):\n",
        "            metrics[\"val_loss\"].append(float(line.split(\":\")[1].strip()))\n",
        "        elif line.startswith(\"Accuracy:\"):\n",
        "            metrics[\"accuracy\"].append(float(line.split(\":\")[1].strip())/100)\n",
        "        elif line.startswith(\"Dice score:\"):\n",
        "            metrics[\"dice_score\"].append(float(line.split(\":\")[1].strip()))\n",
        "        elif line.startswith(\"Precision:\"):\n",
        "            metrics[\"precision\"].append(float(line.split(\":\")[1].strip()))\n",
        "        elif line.startswith(\"Recall:\"):\n",
        "            metrics[\"recall\"].append(float(line.split(\":\")[1].strip()))\n",
        "        elif line.startswith(\"F1 Score:\"):\n",
        "            metrics[\"f1_score\"].append(float(line.split(\":\")[1].strip()))\n",
        "            epoch += 1\n",
        "\n",
        "    return metrics\n",
        "\n",
        "def plot_metrics(metrics, save_dir=None):\n",
        "    epochs = metrics[\"epoch\"]\n",
        "\n",
        "    plt.figure(figsize=(10, 10))\n",
        "    plt.plot(epochs, metrics[\"train_loss\"], label=\"Train Loss\")\n",
        "    plt.plot(epochs, metrics[\"val_loss\"], label=\"Validation Loss\")\n",
        "    plt.xlabel(\"Epochs\")\n",
        "    plt.ylabel(\"Loss\")\n",
        "    plt.title(\"Train Loss and Validation Loss\")\n",
        "    plt.legend()\n",
        "    plt.grid(True)\n",
        "    plt.ylim(0, 1)\n",
        "    if save_dir:\n",
        "        plt.savefig(os.path.join(save_dir, \"loss_plot.png\"))\n",
        "    else:\n",
        "        plt.show()\n",
        "\n",
        "    plt.figure(figsize=(10, 10))\n",
        "    plt.plot(epochs, metrics[\"accuracy\"], label=\"Accuracy\")\n",
        "    plt.plot(epochs, metrics[\"dice_score\"], label=\"Dice Score\")\n",
        "    plt.plot(epochs, metrics[\"precision\"], label=\"Precision\")\n",
        "    plt.plot(epochs, metrics[\"recall\"], label=\"Recall\")\n",
        "    plt.plot(epochs, metrics[\"f1_score\"], label=\"F1 Score\")\n",
        "    plt.xlabel(\"Epochs\")\n",
        "    plt.ylabel(\"Metric Value\")\n",
        "    plt.title(\"Validation Metrics\")\n",
        "    plt.legend()\n",
        "    plt.grid(True)\n",
        "    plt.ylim(0, 1)\n",
        "    if save_dir:\n",
        "        plt.savefig(os.path.join(save_dir, \"metrics_plot.png\"))\n",
        "    else:\n",
        "        plt.show()\n",
        "\n",
        "metrics = read_metrics(model_dir + \"/output/output.txt\")\n",
        "save_directory = model_dir + \"/grafici\"\n",
        "if not os.path.exists(save_directory):\n",
        "    os.makedirs(save_directory)\n",
        "plot_metrics(metrics, save_dir=save_directory)\n"
      ],
      "metadata": {
        "id": "VebxSaF7SmNB"
      },
      "execution_count": null,
      "outputs": []
    },
    {
      "cell_type": "markdown",
      "source": [
        "Test set"
      ],
      "metadata": {
        "id": "i7i7Cddx7CHn"
      }
    },
    {
      "cell_type": "code",
      "source": [
        "model1_path = \"/content/drive/MyDrive/model4/best_model.pth.tar\"\n",
        "model2_path = \"/content/drive/MyDrive/model8/best_model.pth.tar\"\n",
        "model3_path = \"/content/drive/MyDrive/model10/best_model.pth.tar\"\n",
        "\n",
        "model1 = UNET(in_channels=4, out_channels=1).to(device)\n",
        "model2 = UNET(in_channels=4, out_channels=1).to(device)\n",
        "model3 = UNET(in_channels=4, out_channels=1).to(device)\n",
        "\n",
        "load_checkpoint(torch.load(model1_path), model1)\n",
        "load_checkpoint(torch.load(model2_path), model2)\n",
        "load_checkpoint(torch.load(model3_path), model3)\n",
        "\n",
        "criterion = nn.BCEWithLogitsLoss()\n"
      ],
      "metadata": {
        "id": "4i85F2dP7Azp",
        "outputId": "7d6a8a91-fec0-4299-d5e0-2ecddca17bd2",
        "colab": {
          "base_uri": "https://localhost:8080/"
        }
      },
      "execution_count": null,
      "outputs": [
        {
          "output_type": "stream",
          "name": "stdout",
          "text": [
            "=> Loading checkpoint\n",
            "=> Loading checkpoint\n",
            "=> Loading checkpoint\n"
          ]
        }
      ]
    },
    {
      "cell_type": "code",
      "source": [
        "test_transform = A.Compose([\n",
        "    A.Resize(height=320, width=320),\n",
        "    A.Normalize(mean=mean, std=std),\n",
        "    ToTensorV2(),\n",
        "])\n",
        "\n",
        "test_dataset = SARDataset(test_image_paths, test_label_paths, transform=test_transform)\n",
        "test_loader = DataLoader(test_dataset, batch_size=16, shuffle=False, num_workers=4, pin_memory=True)\n"
      ],
      "metadata": {
        "id": "0TaeY96h_JaV"
      },
      "execution_count": null,
      "outputs": []
    },
    {
      "cell_type": "markdown",
      "source": [
        "Uguale a eval_fn ma con aggiunta matrice di confusione"
      ],
      "metadata": {
        "id": "Eg77904u_nyw"
      }
    },
    {
      "cell_type": "code",
      "source": [
        "from sklearn.metrics import confusion_matrix\n",
        "import seaborn as sns\n",
        "\n",
        "def test_fn(loader, model, loss_fn, txtfile, device=\"cuda\"):\n",
        "    model.eval()\n",
        "    num_correct = 0\n",
        "    num_pixels = 0\n",
        "    total_dice_score = 0\n",
        "    total_precision = 0\n",
        "    total_recall = 0\n",
        "    total_f1 = 0\n",
        "    total_loss = 0\n",
        "\n",
        "    all_preds = []\n",
        "    all_labels = []\n",
        "\n",
        "    with torch.no_grad():\n",
        "        for x, y in loader:\n",
        "            x = x.to(device)\n",
        "            y = y.to(device)\n",
        "            out = model(x).squeeze(1)\n",
        "            loss = loss_fn(out, y)\n",
        "            total_loss += loss.item()\n",
        "            preds = torch.sigmoid(out)\n",
        "            preds = (preds > 0.5).float()\n",
        "\n",
        "            all_preds.append(preds.cpu().numpy().flatten())\n",
        "            all_labels.append(y.cpu().numpy().flatten())\n",
        "\n",
        "            num_correct += (preds == y).sum().item()\n",
        "            num_pixels += torch.numel(preds)\n",
        "\n",
        "            dice_score = (2 * (preds * y).sum()) / ((preds + y).sum() + 1e-8)\n",
        "            total_dice_score += dice_score.item()\n",
        "\n",
        "            y_np = y.cpu().numpy().flatten()\n",
        "            preds_np = preds.cpu().numpy().flatten()\n",
        "            total_precision += precision_score(y_np, preds_np, zero_division=1)\n",
        "            total_recall += recall_score(y_np, preds_np, zero_division=1)\n",
        "            total_f1 += f1_score(y_np, preds_np, zero_division=1)\n",
        "\n",
        "    avg_loss = total_loss / len(loader)\n",
        "    avg_dice_score = total_dice_score / len(loader)\n",
        "    avg_precision = total_precision / len(loader)\n",
        "    avg_recall = total_recall / len(loader)\n",
        "    avg_f1 = total_f1 / len(loader)\n",
        "    accuracy = num_correct / num_pixels * 100\n",
        "\n",
        "    print(f\"Test Loss: {avg_loss:.4f}\")\n",
        "    print(f\"Accuracy: {accuracy:.2f}\")\n",
        "    print(f\"Dice score: {avg_dice_score:.4f}\")\n",
        "    print(f\"Precision: {avg_precision:.4f}\")\n",
        "    print(f\"Recall: {avg_recall:.4f}\")\n",
        "    print(f\"F1 Score: {avg_f1:.4f}\")\n",
        "\n",
        "    with open(txtfile, \"w\") as f:\n",
        "        f.write(f\"Test Loss: {avg_loss:.4f}\\n\")\n",
        "        f.write(f\"Accuracy: {accuracy:.2f}\\n\")\n",
        "        f.write(f\"Dice score: {avg_dice_score:.4f}\\n\")\n",
        "        f.write(f\"Precision: {avg_precision:.4f}\\n\")\n",
        "        f.write(f\"Recall: {avg_recall:.4f}\\n\")\n",
        "        f.write(f\"F1 Score: {avg_f1:.4f}\\n\")\n",
        "\n",
        "    all_preds = np.concatenate(all_preds)\n",
        "    all_labels = np.concatenate(all_labels)\n",
        "    conf_matrix = confusion_matrix(all_labels, all_preds)\n",
        "\n",
        "    plt.figure(figsize=(10, 7))\n",
        "    sns.heatmap(conf_matrix, annot=True, fmt=\"d\")\n",
        "    plt.title(\"Confusion Matrix\")\n",
        "    plt.xlabel(\"Predicted\")\n",
        "    plt.ylabel(\"True\")\n",
        "    plt.savefig(txtfile.replace(\".txt\", \"_confusion_matrix.png\"))\n",
        "\n",
        "    model.train()\n",
        "    return avg_loss, accuracy, avg_dice_score, avg_precision, avg_recall, avg_f1"
      ],
      "metadata": {
        "id": "eK_9DwzH_cDa"
      },
      "execution_count": null,
      "outputs": []
    },
    {
      "cell_type": "code",
      "source": [
        "test_txtfile1 = \"/content/drive/MyDrive/test4/output.txt\"\n",
        "test_txtfile2 = \"/content/drive/MyDrive/test8/output.txt\"\n",
        "test_txtfile3 = \"/content/drive/MyDrive/test10/output.txt\""
      ],
      "metadata": {
        "id": "5WRFS60rAGA0"
      },
      "execution_count": null,
      "outputs": []
    },
    {
      "cell_type": "code",
      "source": [
        "test_loss1, test_accuracy1, test_dice_score1, test_precision1, test_recall1, test_f1_1 = test_fn(test_loader, model1, criterion, test_txtfile1, device=device)"
      ],
      "metadata": {
        "id": "CARrr5RuAgDQ",
        "outputId": "9588f4c3-59ac-4f85-d637-edaaa25f6c49",
        "colab": {
          "base_uri": "https://localhost:8080/",
          "height": 745
        }
      },
      "execution_count": null,
      "outputs": [
        {
          "output_type": "stream",
          "name": "stdout",
          "text": [
            "Test Loss: 0.0620\n",
            "Accuracy: 97.99\n",
            "Dice score: 0.8262\n",
            "Precision: 0.8710\n",
            "Recall: 0.7861\n",
            "F1 Score: 0.8262\n"
          ]
        },
        {
          "output_type": "display_data",
          "data": {
            "text/plain": [
              "<Figure size 1000x700 with 2 Axes>"
            ],
            "image/png": "[encoded data removed]"
          },
          "metadata": {}
        }
      ]
    },
    {
      "cell_type": "code",
      "source": [
        "test_loss2, test_accuracy2, test_dice_score2, test_precision2, test_recall2, test_f1_2 = test_fn(test_loader, model2, criterion, test_txtfile2, device=device)"
      ],
      "metadata": {
        "id": "IHXQLiu_BxvX",
        "outputId": "46882693-6d2b-4063-8ebd-884add707725",
        "colab": {
          "base_uri": "https://localhost:8080/",
          "height": 745
        }
      },
      "execution_count": null,
      "outputs": [
        {
          "output_type": "stream",
          "name": "stdout",
          "text": [
            "Test Loss: 0.0577\n",
            "Accuracy: 98.00\n",
            "Dice score: 0.8273\n",
            "Precision: 0.8729\n",
            "Recall: 0.7865\n",
            "F1 Score: 0.8273\n"
          ]
        },
        {
          "output_type": "display_data",
          "data": {
            "text/plain": [
              "<Figure size 1000x700 with 2 Axes>"
            ],
            "image/png": "[encoded data removed]"
          },
          "metadata": {}
        }
      ]
    },
    {
      "cell_type": "code",
      "source": [
        "test_loss3, test_accuracy3, test_dice_score3, test_precision3, test_recall3, test_f1_3 = test_fn(test_loader, model3, criterion, test_txtfile3, device=device)"
      ],
      "metadata": {
        "id": "grXuFejICwHv",
        "outputId": "6bc0a893-334b-4b41-c72a-4d4f7d622e22",
        "colab": {
          "base_uri": "https://localhost:8080/",
          "height": 745
        }
      },
      "execution_count": null,
      "outputs": [
        {
          "output_type": "stream",
          "name": "stdout",
          "text": [
            "Test Loss: 0.0580\n",
            "Accuracy: 98.02\n",
            "Dice score: 0.8296\n",
            "Precision: 0.8727\n",
            "Recall: 0.7908\n",
            "F1 Score: 0.8296\n"
          ]
        },
        {
          "output_type": "display_data",
          "data": {
            "text/plain": [
              "<Figure size 1000x700 with 2 Axes>"
            ],
            "image/png": "[encoded data removed]"
          },
          "metadata": {}
        }
      ]
    }
  ]
}