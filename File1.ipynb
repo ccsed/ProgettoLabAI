{
  "nbformat": 4,
  "nbformat_minor": 0,
  "metadata": {
    "colab": {
      "provenance": [],
      "authorship_tag": "ABX9TyMrT+NiitwewPdH2zSjtzxR",
      "include_colab_link": true
    },
    "kernelspec": {
      "name": "python3",
      "display_name": "Python 3"
    },
    "language_info": {
      "name": "python"
    }
  },
  "cells": [
    {
      "cell_type": "markdown",
      "metadata": {
        "id": "view-in-github",
        "colab_type": "text"
      },
      "source": [
        "<a href=\"https://colab.research.google.com/github/ccsed/ProgettoLabAI/blob/main/File1.ipynb\" target=\"_parent\"><img src=\"https://colab.research.google.com/assets/colab-badge.svg\" alt=\"Open In Colab\"/></a>"
      ]
    },
    {
      "cell_type": "markdown",
      "source": [
        "Collego colab a google drive\n"
      ],
      "metadata": {
        "id": "dkejEQMvMXpr"
      }
    },
    {
      "cell_type": "code",
      "execution_count": 1,
      "metadata": {
        "id": "WaJJRPjC6s4n",
        "colab": {
          "base_uri": "https://localhost:8080/"
        },
        "outputId": "086ee7f9-11f0-4cf6-fddb-8b738723b9e7"
      },
      "outputs": [
        {
          "output_type": "stream",
          "name": "stdout",
          "text": [
            "Drive already mounted at /content/drive; to attempt to forcibly remount, call drive.mount(\"/content/drive\", force_remount=True).\n"
          ]
        }
      ],
      "source": [
        "from google.colab import drive\n",
        "drive.mount('/content/drive')"
      ]
    },
    {
      "cell_type": "markdown",
      "source": [
        "Importo le librerie necessarie"
      ],
      "metadata": {
        "id": "RLxBbaoYoljw"
      }
    },
    {
      "cell_type": "code",
      "source": [
        "!pip install rasterio"
      ],
      "metadata": {
        "colab": {
          "base_uri": "https://localhost:8080/"
        },
        "id": "SeK0MMwznpSr",
        "outputId": "b56846c5-9ba4-4f86-eda8-6ed3779f39cd"
      },
      "execution_count": 2,
      "outputs": [
        {
          "output_type": "stream",
          "name": "stdout",
          "text": [
            "Requirement already satisfied: rasterio in /usr/local/lib/python3.10/dist-packages (1.3.10)\n",
            "Requirement already satisfied: affine in /usr/local/lib/python3.10/dist-packages (from rasterio) (2.4.0)\n",
            "Requirement already satisfied: attrs in /usr/local/lib/python3.10/dist-packages (from rasterio) (23.2.0)\n",
            "Requirement already satisfied: certifi in /usr/local/lib/python3.10/dist-packages (from rasterio) (2024.2.2)\n",
            "Requirement already satisfied: click>=4.0 in /usr/local/lib/python3.10/dist-packages (from rasterio) (8.1.7)\n",
            "Requirement already satisfied: cligj>=0.5 in /usr/local/lib/python3.10/dist-packages (from rasterio) (0.7.2)\n",
            "Requirement already satisfied: numpy in /usr/local/lib/python3.10/dist-packages (from rasterio) (1.25.2)\n",
            "Requirement already satisfied: snuggs>=1.4.1 in /usr/local/lib/python3.10/dist-packages (from rasterio) (1.4.7)\n",
            "Requirement already satisfied: click-plugins in /usr/local/lib/python3.10/dist-packages (from rasterio) (1.1.1)\n",
            "Requirement already satisfied: setuptools in /usr/local/lib/python3.10/dist-packages (from rasterio) (67.7.2)\n",
            "Requirement already satisfied: pyparsing>=2.1.6 in /usr/local/lib/python3.10/dist-packages (from snuggs>=1.4.1->rasterio) (3.1.2)\n"
          ]
        }
      ]
    },
    {
      "cell_type": "code",
      "source": [
        "import os\n",
        "import numpy as np\n",
        "import rasterio\n",
        "import torch\n",
        "from torch.utils.data import Dataset, DataLoader, random_split\n",
        "from torchvision import transforms\n",
        "import albumentations as A\n",
        "from PIL import Image\n",
        "import matplotlib.pyplot as plt\n",
        "import random"
      ],
      "metadata": {
        "id": "BD5aG8Tloo4V"
      },
      "execution_count": 3,
      "outputs": []
    },
    {
      "cell_type": "markdown",
      "source": [
        "Creo la funzione per dividere il dataset in train, validation e test"
      ],
      "metadata": {
        "id": "ARt2Kuqil97n"
      }
    },
    {
      "cell_type": "code",
      "source": [
        "def split_dataset(image_dir, drive_dir, train_ratio=0.7, val_ratio=0.2, test_ratio=0.1, seed=42):\n",
        "  images = sorted(os.listdir(image_dir))\n",
        "\n",
        "  combined = [(img, img) for img in images]\n",
        "  random.seed(seed)\n",
        "  random.shuffle(combined)\n",
        "\n",
        "  train_split = int(len(combined) * train_ratio)\n",
        "  val_split = int(len(combined) * (train_ratio + val_ratio))\n",
        "  train_data = combined[:train_split]\n",
        "  val_data = combined[train_split:val_split]\n",
        "  test_data = combined[val_split:]\n",
        "\n",
        "  with open(os.path.join(drive_dir, 'train.txt'), 'w') as f:\n",
        "    for img, lbl in train_data:\n",
        "      f.write(f\"{img} {lbl}\\n\")\n",
        "\n",
        "  with open(os.path.join(drive_dir, 'val.txt'), 'w') as f:\n",
        "    for img, lbl in val_data:\n",
        "      f.write(f\"{img} {lbl}\\n\")\n",
        "\n",
        "  with open(os.path.join(drive_dir, 'test.txt'), 'w') as f:\n",
        "    for img, lbl in test_data:\n",
        "      f.write(f\"{img} {lbl}\\n\")\n"
      ],
      "metadata": {
        "id": "o5f3Rv6Bmjqd"
      },
      "execution_count": 4,
      "outputs": []
    },
    {
      "cell_type": "markdown",
      "source": [
        "Definisco la directory dove salvare i file txt e faccio split sul dataset"
      ],
      "metadata": {
        "id": "lhMvQStro03e"
      }
    },
    {
      "cell_type": "code",
      "source": [
        "drive_dir = '/content/drive/MyDrive'\n",
        "image_dir = '/content/drive/MyDrive/Data/SN6_buildings_AOI_11_Rotterdam_train/train/AOI_11_Rotterdam/SAR-Intensity'\n",
        "split_dataset(image_dir, drive_dir)"
      ],
      "metadata": {
        "id": "8Vk76qcKo8Jr"
      },
      "execution_count": null,
      "outputs": []
    },
    {
      "cell_type": "markdown",
      "source": [
        "Per visualizzare un'immagine"
      ],
      "metadata": {
        "id": "SUs13RBju496"
      }
    },
    {
      "cell_type": "code",
      "source": [
        "image_path = '/content/drive/MyDrive/Data/SN6_buildings_AOI_11_Rotterdam_train/train/AOI_11_Rotterdam/SAR-Intensity/SN6_Train_AOI_11_Rotterdam_SAR-Intensity_20190804113009_20190804113242_tile_4800.tif'\n",
        "with rasterio.open(image_path) as src:\n",
        "  image = src.read()\n",
        "  print(f\"Image shape: {image.shape}\")  # (channels, height, width)\n",
        "fig, axs = plt.subplots(1, 4, figsize=(20, 5))\n",
        "for i in range(4):\n",
        "  axs[i].imshow(image[i], cmap='gray')\n",
        "  axs[i].set_title(f'Channel {i+1}')\n",
        "  axs[i].axis('off')\n",
        "plt.show()\n",
        "rgb_image = image[:3, :, :].astype(float)  # Prendi solo i primi tre canali\n",
        "\n",
        "rgb_image = rgb_image.transpose((1, 2, 0))  # Trasponi per ottenere la forma (height, width, channels)\n",
        "\n",
        "plt.figure(figsize=(10, 10))\n",
        "plt.imshow(rgb_image)\n",
        "plt.title('RGB Image (Channels 1, 2, 3)')\n",
        "plt.axis('off')\n",
        "plt.show()"
      ],
      "metadata": {
        "id": "c4WB7-4ztdrY"
      },
      "execution_count": null,
      "outputs": []
    },
    {
      "cell_type": "markdown",
      "source": [
        "Funzione per calcolare media e deviazione standard"
      ],
      "metadata": {
        "id": "hISd1eNAy-e4"
      }
    },
    {
      "cell_type": "code",
      "source": [
        "def compute_mean_std(image_dir):\n",
        "  num_channels = 4\n",
        "  num_pixels = 0\n",
        "  running_sum = np.zeros(num_channels)\n",
        "  running_sum_squared = np.zeros(num_channels)\n",
        "\n",
        "  for filename in os.listdir(image_dir):\n",
        "    image_path = os.path.join(image_dir, filename)\n",
        "    with rasterio.open(image_path) as src:\n",
        "        image = src.read()\n",
        "    flattened_image = image.reshape(-1, num_channels)\n",
        "    running_sum += np.sum(flattened_image, axis=0)\n",
        "    running_sum_squared += np.sum(flattened_image ** 2, axis=0)\n",
        "    num_pixels += flattened_image.shape[0]\n",
        "\n",
        "  mean = running_sum / num_pixels\n",
        "  std = np.sqrt((running_sum_squared / num_pixels) - (mean ** 2))\n",
        "  return mean, std"
      ],
      "metadata": {
        "id": "zPyiZk-pzCxt"
      },
      "execution_count": null,
      "outputs": []
    },
    {
      "cell_type": "markdown",
      "source": [
        "Calcolo media e deviazione standard"
      ],
      "metadata": {
        "id": "W0A7FhkQ0M8g"
      }
    },
    {
      "cell_type": "code",
      "source": [
        "mean, std = compute_mean_std(image_dir)\n",
        "print(\"Mean: \", mean)\n",
        "print(\"Std: \", std)"
      ],
      "metadata": {
        "id": "pfy3tVxa0RvG"
      },
      "execution_count": null,
      "outputs": []
    }
  ]
}