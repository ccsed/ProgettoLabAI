{
  "nbformat": 4,
  "nbformat_minor": 0,
  "metadata": {
    "colab": {
      "provenance": [],
      "authorship_tag": "ABX9TyPKnQXxpm1XbawQSc/wUfFC",
      "include_colab_link": true
    },
    "kernelspec": {
      "name": "python3",
      "display_name": "Python 3"
    },
    "language_info": {
      "name": "python"
    }
  },
  "cells": [
    {
      "cell_type": "markdown",
      "metadata": {
        "id": "view-in-github",
        "colab_type": "text"
      },
      "source": [
        "<a href=\"https://colab.research.google.com/github/ccsed/ProgettoLabAI/blob/main/File1.ipynb\" target=\"_parent\"><img src=\"https://colab.research.google.com/assets/colab-badge.svg\" alt=\"Open In Colab\"/></a>"
      ]
    },
    {
      "cell_type": "markdown",
      "source": [
        "Collego colab a google dirve\n"
      ],
      "metadata": {
        "id": "dkejEQMvMXpr"
      }
    },
    {
      "cell_type": "code",
      "execution_count": 9,
      "metadata": {
        "id": "WaJJRPjC6s4n",
        "colab": {
          "base_uri": "https://localhost:8080/"
        },
        "outputId": "84fb8718-fc50-40f9-a59b-2809248cbc4d"
      },
      "outputs": [
        {
          "output_type": "stream",
          "name": "stdout",
          "text": [
            "Mounted at /content/drive\n"
          ]
        }
      ],
      "source": [
        "from google.colab import drive\n",
        "drive.mount('/content/drive')"
      ]
    },
    {
      "cell_type": "markdown",
      "source": [
        "Importo le librerie necessarie"
      ],
      "metadata": {
        "id": "RLxBbaoYoljw"
      }
    },
    {
      "cell_type": "code",
      "source": [
        "!pip install rasterio"
      ],
      "metadata": {
        "id": "SeK0MMwznpSr"
      },
      "execution_count": null,
      "outputs": []
    },
    {
      "cell_type": "code",
      "source": [
        "import os\n",
        "import numpy as np\n",
        "import rasterio\n",
        "import torch\n",
        "from torch.utils.data import Dataset, DataLoader, random_split\n",
        "from torchvision import transforms\n",
        "import albumentations as A\n",
        "from PIL import Image\n",
        "import matplotlib.pyplot as plt\n",
        "import random"
      ],
      "metadata": {
        "id": "BD5aG8Tloo4V"
      },
      "execution_count": 3,
      "outputs": []
    },
    {
      "cell_type": "markdown",
      "source": [
        "Creo la funzione per dividere il dataset in train, validation e test"
      ],
      "metadata": {
        "id": "ARt2Kuqil97n"
      }
    },
    {
      "cell_type": "code",
      "source": [
        "def split_dataset(image_dir, drive_dir, train_ratio=0.7, val_ratio=0.2, test_ratio=0.1, seed=42):\n",
        "  images = sorted(os.listdir(image_dir))\n",
        "\n",
        "  combined = [(img, img) for img in images]\n",
        "  random.seed(seed)\n",
        "  random.shuffle(combined)\n",
        "\n",
        "  train_split = int(len(combined) * train_ratio)\n",
        "  val_split = int(len(combined) * (train_ratio + val_ratio))\n",
        "  train_data = combined[:train_split]\n",
        "  val_data = combined[train_split:val_split]\n",
        "  test_data = combined[val_split:]\n",
        "\n",
        "  with open(os.path.join(drive_dir, 'train.txt'), 'w') as f:\n",
        "    for img, lbl in train_data:\n",
        "      f.write(f\"{img} {lbl}\\n\")\n",
        "\n",
        "  with open(os.path.join(drive_dir, 'val.txt'), 'w') as f:\n",
        "    for img, lbl in val_data:\n",
        "      f.write(f\"{img} {lbl}\\n\")\n",
        "\n",
        "  with open(os.path.join(drive_dir, 'test.txt'), 'w') as f:\n",
        "    for img, lbl in test_data:\n",
        "      f.write(f\"{img} {lbl}\\n\")\n"
      ],
      "metadata": {
        "id": "o5f3Rv6Bmjqd"
      },
      "execution_count": 7,
      "outputs": []
    },
    {
      "cell_type": "markdown",
      "source": [
        "Definisco la directory dove salvare i file txt e faccio split sul dataset"
      ],
      "metadata": {
        "id": "lhMvQStro03e"
      }
    },
    {
      "cell_type": "code",
      "source": [
        "drive_dir = '/content/drive/MyDrive'\n",
        "split_dataset('/content/drive/MyDrive/Data/SN6_buildings_AOI_11_Rotterdam_train/train/AOI_11_Rotterdam/SAR-Intensity', drive_dir)"
      ],
      "metadata": {
        "id": "8Vk76qcKo8Jr"
      },
      "execution_count": 10,
      "outputs": []
    }
  ]
}